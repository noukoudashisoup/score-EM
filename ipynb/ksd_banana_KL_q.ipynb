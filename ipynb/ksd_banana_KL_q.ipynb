{
 "cells": [
  {
   "cell_type": "markdown",
   "metadata": {},
   "source": [
    "# Load data"
   ]
  },
  {
   "cell_type": "code",
   "execution_count": 2,
   "metadata": {},
   "outputs": [],
   "source": [
    "%load_ext autoreload\n",
    "%autoreload 2"
   ]
  },
  {
   "cell_type": "code",
   "execution_count": 3,
   "metadata": {},
   "outputs": [],
   "source": [
    "import numpy as np\n",
    "import matplotlib.pyplot as plt\n",
    "np.set_printoptions(precision=3, linewidth=120)\n",
    "import sys\n",
    "sys.path.append(\"..\")\n",
    "from scem import ebm, stein, kernel, util, gen\n",
    "from scem.datasets import *\n",
    "import matplotlib.pyplot as plt\n",
    "from tqdm import notebook as tqdm"
   ]
  },
  {
   "cell_type": "code",
   "execution_count": 4,
   "metadata": {},
   "outputs": [],
   "source": [
    "dname = \"banana\"\n",
    "p = load_data(dname, D=2, noise_std = 0.0, seed=0, itanh=False, whiten=False )\n",
    "\n",
    "x = p.sample(1000)\n",
    "x_eval = p.sample(100)"
   ]
  },
  {
   "cell_type": "code",
   "execution_count": 5,
   "metadata": {},
   "outputs": [],
   "source": [
    "import torch \n",
    "import torch.nn as nn\n",
    "import numpy as np\n",
    "import torch.distributions as td\n",
    "    \n",
    "class GaussianEBM(nn.Module):\n",
    "    \n",
    "    def __init__(self, Dx, Dz, Dh):\n",
    "        \n",
    "        super().__init__()\n",
    "        \n",
    "        self.prior   = td.Normal(torch.zeros(Dz), torch.ones(Dz))\n",
    "        self.std     = nn.Parameter(torch.zeros(Dx))\n",
    "        self.layer_1 = nn.Linear(Dz, Dh)\n",
    "        self.layer_2_mu  = nn.Linear(Dh, Dx)\n",
    "        self.layer_2_sig = nn.Linear(Dh, Dx)\n",
    "    \n",
    "    def forward(self, X, Z):\n",
    "\n",
    "        logp = self.prior.log_prob(Z).sum(-1)\n",
    "        logp = logp + self.likelihood(Z).log_prob(X).sum(-1)\n",
    "        \n",
    "        return logp\n",
    "    \n",
    "    def likelihood(self, Z):\n",
    "        \n",
    "        h  = nn.functional.elu(self.layer_1(Z))\n",
    "        m  = self.layer_2_mu(h)\n",
    "        s  = nn.functional.softplus(self.std)\n",
    "        return td.Normal(m, s)\n",
    "    \n",
    "    def sample(self, N):\n",
    "        z = self.prior.sample([N])\n",
    "        x = self.likelihood(z).sample()\n",
    "        return x\n",
    "\n",
    "# dimensionality of model \n",
    "Dx = 2\n",
    "Dz = 2\n",
    "Dh = 100\n",
    "\n",
    "lebm = ebm.LatentEBMAdapter(GaussianEBM(Dx, Dz, Dh), var_type_obs='continuous', var_type_latent='continuous')"
   ]
  },
  {
   "cell_type": "code",
   "execution_count": 6,
   "metadata": {},
   "outputs": [],
   "source": [
    "X = torch.as_tensor(x, dtype=torch.float32)"
   ]
  },
  {
   "cell_type": "code",
   "execution_count": 7,
   "metadata": {},
   "outputs": [],
   "source": [
    "# define kernel\n",
    "\n",
    "# KSD kernel on x\n",
    "med2_x = util.pt_meddistance(X)**2\n",
    "#kx = kernel.KIMQ(b=-0.5, c=1, s2=med2)\n",
    "med2_px = torch.tensor([med2_x], requires_grad=True)\n",
    "k_px = kernel.KGauss(med2_px)\n",
    "\n",
    "# KCSD kernel on x\n",
    "med2_qx = torch.tensor([med2_x], requires_grad=True)\n",
    "k_qx = kernel.KGauss(med2_qx)\n",
    "\n",
    "# q(z|x)\n",
    "cs = gen.CSFactorisedGaussian(Dx, Dz, Dh)\n",
    "# cs = gen.Implicit(Dx, Dz, Dh)\n",
    "# KCSD kernel on z \n",
    "Z = cs.sample(1, X)\n",
    "Z = Z.squeeze(0)\n",
    "med2_z = util.pt_meddistance(Z)**2\n",
    "med2_z = torch.tensor([med2_z], requires_grad=True)\n",
    "# k_z = kernel.KIMQ(b=-0.5, c=1, s2=med2_z)\n",
    "k_z = kernel.KGauss(med2_qx)\n",
    "\n",
    "\n",
    "# approximate score p(x)\n",
    "approx_score = stein.ApproximateScore(\n",
    "        lebm.score_joint_obs, cs)\n",
    "approx_score.n_sample = 100"
   ]
  },
  {
   "cell_type": "code",
   "execution_count": 8,
   "metadata": {},
   "outputs": [],
   "source": [
    "# optimizer settings\n",
    "learning_rate_q = 1e-3\n",
    "weight_decay_q =  0\n",
    "optimizer_q = torch.optim.Adam(cs.parameters(), lr=learning_rate_q,\n",
    "                               weight_decay=weight_decay_q)\n",
    "\n",
    "\n",
    "# optimizer settings for p(x)\n",
    "learning_rate_p = 1e-3\n",
    "weight_decay_p  = 0\n",
    "optimizer_p = torch.optim.Adam(lebm.parameters(), lr=learning_rate_p,\n",
    "                               weight_decay=weight_decay_p)\n",
    "\n",
    "optimizer_med2_qx = torch.optim.Adam([med2_qx], lr=learning_rate_q,\n",
    "                               weight_decay=weight_decay_q)\n",
    "\n",
    "optimizer_med2_px = torch.optim.Adam([med2_px], lr=learning_rate_p,\n",
    "                               weight_decay=weight_decay_p)\n",
    "\n",
    "optimizer_med2_z = torch.optim.Adam([med2_z], lr=learning_rate_q,\n",
    "                               weight_decay=weight_decay_q)"
   ]
  },
  {
   "cell_type": "code",
   "execution_count": 9,
   "metadata": {},
   "outputs": [],
   "source": [
    "iter_p = 2000\n",
    "iter_q = 1\n",
    "batch_size = 100"
   ]
  },
  {
   "cell_type": "code",
   "execution_count": 10,
   "metadata": {},
   "outputs": [],
   "source": [
    "def inner_loop(niter, X, cs):\n",
    "    for i in range(niter):\n",
    "        Z = cs.sample(1, X)\n",
    "        Z = Z.squeeze(0)\n",
    "        \n",
    "        loss = stein.kcsd_ustat(\n",
    "            X, Z, lebm.score_joint_latent, k_qx, k_z)\n",
    "        \n",
    "        optimizer_q.zero_grad()\n",
    "        loss.backward(retain_graph=False)\n",
    "        optimizer_q.step()\n",
    "        \n",
    "#         Z = cs.sample(1, X)\n",
    "#         Z = Z.squeeze(0)\n",
    "#         loss = -stein.kcsd_ustat(\n",
    "#             X, Z, lebm.score_joint_latent, k_qx, k_z)\n",
    "        \n",
    "#         optimizer_med2_qx.zero_grad()\n",
    "#         optimizer_med2_z.zero_grad()\n",
    "#         loss.backward(retain_graph=False)\n",
    "#         optimizer_med2_qx.step()\n",
    "#         optimizer_med2_z.step()\n",
    "\n",
    "def inner_loop(niter, X, cs):\n",
    "    for i in range(niter):\n",
    "        Z = cs.sample(1, X)\n",
    "        Z = Z.squeeze(0)\n",
    "        \n",
    "        loss = - (lebm.forward(X, Z) + cs.likelihood(X).entropy().sum(-1)).mean()\n",
    "        \n",
    "        optimizer_q.zero_grad()\n",
    "#         optimizer_p.zero_grad()\n",
    "        loss.backward(retain_graph=False)\n",
    "#         optimizer_p.step()\n",
    "        optimizer_q.step()\n",
    "        return loss\n",
    "#         Z = cs.sample(1, X)\n",
    "#         Z = Z.squeeze(0)\n",
    "#         loss = -stein.kcsd_ustat(\n",
    "#             X, Z, lebm.score_joint_latent, k_qx, k_z)\n",
    "        \n",
    "#         optimizer_med2_qx.zero_grad()\n",
    "#         optimizer_med2_z.zero_grad()\n",
    "#         loss.backward(retain_graph=False)\n",
    "#         optimizer_med2_qx.step()\n",
    "#         optimizer_med2_z.step()\n",
    "\n",
    "\n",
    "losses = []\n",
    "med2s = []"
   ]
  },
  {
   "cell_type": "code",
   "execution_count": 47,
   "metadata": {
    "scrolled": true
   },
   "outputs": [
    {
     "data": {
      "application/vnd.jupyter.widget-view+json": {
       "model_id": "c6811c1b2eb5428595fcc2be196436ce",
       "version_major": 2,
       "version_minor": 0
      },
      "text/plain": [
       "HBox(children=(FloatProgress(value=0.0, max=3000.0), HTML(value='')))"
      ]
     },
     "metadata": {},
     "output_type": "display_data"
    },
    {
     "name": "stdout",
     "output_type": "stream",
     "text": [
      "\n"
     ]
    }
   ],
   "source": [
    "with tqdm.tqdm(range(3000)) as ts:\n",
    "    for t in ts:\n",
    "\n",
    "        # sample data\n",
    "        perm = torch.randperm(X.shape[0]).detach()\n",
    "        idx = perm[:batch_size]\n",
    "        X_ = X[idx].detach()\n",
    "\n",
    "        # train recognition model and KCSD kernels\n",
    "        inner_loop(iter_q, X_, cs)\n",
    "        \n",
    "        loss = stein.ksd_ustat(X_, approx_score, k_px)  \n",
    "\n",
    "        Z = cs.sample(1, X_)[0]\n",
    "#         loss = - lebm.forward(X_,Z).mean()\n",
    "\n",
    "        losses += [loss.item()]\n",
    "        med2s  += [med2_px.item(), med2_qx.item(), med2_z.item()],\n",
    "        ts.set_postfix(loss=loss.item())\n",
    "    \n",
    "#         # train model p\n",
    "        optimizer_p.zero_grad()\n",
    "        loss.backward(retain_graph=False)\n",
    "        optimizer_p.step()\n",
    "        \n",
    "#         # train KSD kernel\n",
    "        perm = torch.randperm(X.shape[0]).detach()\n",
    "        idx = perm[:batch_size]\n",
    "        X_ = X[idx].detach()\n",
    "        \n",
    "        loss = -stein.ksd_ustat(X_, approx_score, k_px)  \n",
    "        optimizer_med2_px.zero_grad()\n",
    "        loss.backward(retain_graph=False)\n",
    "        optimizer_med2_px.step()"
   ]
  },
  {
   "cell_type": "code",
   "execution_count": 48,
   "metadata": {},
   "outputs": [
    {
     "data": {
      "text/plain": [
       "[<matplotlib.lines.Line2D at 0x7f1d1ad67b50>]"
      ]
     },
     "execution_count": 48,
     "metadata": {},
     "output_type": "execute_result"
    },
    {
     "data": {
      "image/png": "[encoded data removed]",
      "text/plain": [
       "<Figure size 432x288 with 1 Axes>"
      ]
     },
     "metadata": {
      "needs_background": "light"
     },
     "output_type": "display_data"
    }
   ],
   "source": [
    "plt.plot(losses)"
   ]
  },
  {
   "cell_type": "code",
   "execution_count": 49,
   "metadata": {},
   "outputs": [
    {
     "data": {
      "text/plain": [
       "[<matplotlib.lines.Line2D at 0x7f1d1ace7590>,\n",
       " <matplotlib.lines.Line2D at 0x7f1d1acdc190>,\n",
       " <matplotlib.lines.Line2D at 0x7f1d1acf5550>]"
      ]
     },
     "execution_count": 49,
     "metadata": {},
     "output_type": "execute_result"
    },
    {
     "data": {
      "image/png": "[encoded data removed]",
      "text/plain": [
       "<Figure size 432x288 with 1 Axes>"
      ]
     },
     "metadata": {
      "needs_background": "light"
     },
     "output_type": "display_data"
    }
   ],
   "source": [
    "plt.plot(med2s)"
   ]
  },
  {
   "cell_type": "code",
   "execution_count": 50,
   "metadata": {},
   "outputs": [],
   "source": [
    "# form a grid for numerical normalisation\n",
    "from itertools import product\n",
    "ngrid = 20\n",
    "grid = torch.linspace(-10, 10, ngrid)\n",
    "xz_eval = torch.tensor(list(product(*[grid]*4)))\n",
    "x_eval = xz_eval[:,:2]\n",
    "z_eval = xz_eval[:,2:]"
   ]
  },
  {
   "cell_type": "code",
   "execution_count": 51,
   "metadata": {},
   "outputs": [],
   "source": [
    "# true log density\n",
    "E_true = p.logpdf_multiple(torch.tensor(list(product(*[grid]*2))))\n",
    "E_true -= E_true.max()"
   ]
  },
  {
   "cell_type": "code",
   "execution_count": 52,
   "metadata": {},
   "outputs": [],
   "source": [
    "# EBM log density\n",
    "E_eval = lebm(x_eval, z_eval).reshape(ngrid,ngrid,ngrid,ngrid).exp().detach()\n",
    "E_eval /= E_eval.sum()\n",
    "E_eval = E_eval.sum(-1).sum(-1)\n",
    "E_eval.log_()\n",
    "E_eval -= E_eval.max()\n",
    "# E_eval = E_eval.sum(-1).sum(-1)"
   ]
  },
  {
   "cell_type": "code",
   "execution_count": 53,
   "metadata": {},
   "outputs": [],
   "source": [
    "def normalise(E):\n",
    "    if isinstance(E, np.ndarray):\n",
    "        E = np.exp(E)\n",
    "    else:\n",
    "        E = E.exp()\n",
    "    E /= E.sum()\n",
    "    return E"
   ]
  },
  {
   "cell_type": "code",
   "execution_count": 54,
   "metadata": {},
   "outputs": [
    {
     "data": {
      "text/plain": [
       "(-10.0, 10.0)"
      ]
     },
     "execution_count": 54,
     "metadata": {},
     "output_type": "execute_result"
    },
    {
     "data": {
      "image/png": "[encoded data removed]",
      "text/plain": [
       "<Figure size 432x432 with 4 Axes>"
      ]
     },
     "metadata": {
      "needs_background": "light"
     },
     "output_type": "display_data"
    }
   ],
   "source": [
    "fig, axes = plt.subplots(2,2,figsize=(6,6), sharex=True, sharey=True)\n",
    "\n",
    "\n",
    "ax = axes[0,0]\n",
    "ax.pcolor(grid, grid,E_true.reshape(ngrid,ngrid), shading='auto', vmin=-10, vmax=0)\n",
    "ax.scatter(x[:,1], x[:,0], c=\"r\", s=1, alpha=0.05)\n",
    "\n",
    "\n",
    "ax = axes[1,0]\n",
    "ax.pcolor(grid, grid,normalise(E_true).reshape(ngrid,ngrid), shading='auto')\n",
    "\n",
    "ax = axes[0,1]\n",
    "ax.pcolor(grid, grid,E_eval,shading='auto', vmin=-10, vmax=0, )\n",
    "ax.scatter(x[:,1], x[:,0], c=\"r\", s=1, alpha=0.05)\n",
    "\n",
    "ax = axes[1,1]\n",
    "ax.pcolor(grid, grid,normalise(E_eval),shading='auto' )\n",
    "ax.scatter(x[:,1], x[:,0], c=\"r\", s=1, alpha=0.0)\n",
    "fake_x = lebm.module.sample(100)\n",
    "ax.scatter(fake_x[:,1], fake_x[:,0], c=\"r\", s=1, alpha=0.1)\n",
    "\n",
    "\n",
    "axes[0,0].set_ylabel(\"logp\")\n",
    "axes[1,0].set_ylabel(\"p\")\n",
    "\n",
    "axes[0,0].set_title(\"data\")\n",
    "axes[0,1].set_title(\"KSD\")\n",
    "\n",
    "axes[0,0].set_xlim(-10,10)"
   ]
  },
  {
   "cell_type": "code",
   "execution_count": null,
   "metadata": {},
   "outputs": [],
   "source": []
  }
 ],
 "metadata": {
  "kernelspec": {
   "display_name": "Python (score_EM)",
   "language": "python",
   "name": "score_em"
  },
  "language_info": {
   "codemirror_mode": {
    "name": "ipython",
    "version": 3
   },
   "file_extension": ".py",
   "mimetype": "text/x-python",
   "name": "python",
   "nbconvert_exporter": "python",
   "pygments_lexer": "ipython3",
   "version": "3.7.9"
  }
 },
 "nbformat": 4,
 "nbformat_minor": 2
}
