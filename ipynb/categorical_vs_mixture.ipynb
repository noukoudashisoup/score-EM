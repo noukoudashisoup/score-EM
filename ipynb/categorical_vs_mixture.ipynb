{
 "cells": [
  {
   "cell_type": "code",
   "execution_count": 1,
   "metadata": {},
   "outputs": [],
   "source": [
    "%load_ext autoreload\n",
    "%autoreload 2"
   ]
  },
  {
   "cell_type": "code",
   "execution_count": 2,
   "metadata": {},
   "outputs": [],
   "source": [
    "from scem import gen, kernel, ebm, net\n",
    "from scem import util\n",
    "import scem.loss as scem_loss"
   ]
  },
  {
   "cell_type": "code",
   "execution_count": 3,
   "metadata": {},
   "outputs": [],
   "source": [
    "import torch\n",
    "import torch.nn as nn\n",
    "import torch.distributions as dists"
   ]
  },
  {
   "cell_type": "code",
   "execution_count": 4,
   "metadata": {},
   "outputs": [],
   "source": [
    "import matplotlib.pyplot as plt"
   ]
  },
  {
   "cell_type": "code",
   "execution_count": 5,
   "metadata": {},
   "outputs": [],
   "source": [
    "plt.rc('lines', linewidth=2, markersize=10)\n",
    "from matplotlib import rcParams\n",
    "rcParams.update({'figure.autolayout': False})"
   ]
  },
  {
   "cell_type": "code",
   "execution_count": 6,
   "metadata": {},
   "outputs": [
    {
     "data": {
      "text/plain": [
       "<torch._C.Generator at 0x111535f60>"
      ]
     },
     "execution_count": 6,
     "metadata": {},
     "output_type": "execute_result"
    }
   ],
   "source": [
    "torch.set_default_dtype(torch.double)\n",
    "torch.manual_seed(13)"
   ]
  },
  {
   "cell_type": "code",
   "execution_count": 7,
   "metadata": {},
   "outputs": [],
   "source": [
    "class CategoricalMixture(nn.Module):\n",
    "    def __init__(self, dh1, dh2, dout, dnoise,\n",
    "                 n_classes, n_logits, temperature=1.):\n",
    "        super(CategoricalMixture, self).__init__()\n",
    "        self.dout = dout\n",
    "        self.dnoise = dnoise\n",
    "        self.n_logits = n_logits\n",
    "        self.n_classes = n_classes\n",
    "        self.feat = net.TwoLayerFC(dnoise, dh1, dh2, dout)\n",
    "        self.mlinear = net.MultipleLinear(dout, n_classes, n_logits,\n",
    "                                          bias=True)\n",
    "        self.temperature = temperature\n",
    "\n",
    "    def forward(self, noise):\n",
    "        return (self.feat(noise))\n",
    "\n",
    "    def sample_noise(self, n_sample, seed=14):\n",
    "        noise = torch.randn(n_sample, self.dnoise)\n",
    "        return noise\n",
    "    \n",
    "    def in_out_shapes(self):\n",
    "        return ((self.dnoise,), self.dout) \n",
    "\n",
    "    def sample(self, n_sample, seed=13):\n",
    "        noise = self.sample_noise(n_sample, seed)\n",
    "        out = self.forward(noise).relu()\n",
    "        logits = self.mlinear(out)\n",
    "        if self.training:\n",
    "            m = dists.RelaxedOneHotCategorical(\n",
    "                self.temperature,\n",
    "                logits=logits,\n",
    "            )\n",
    "            sample = m.rsample()\n",
    "            # print(sample)\n",
    "            return sample\n",
    "        m = dists.OneHotCategorical(logits=logits)\n",
    "        sample = m.sample()\n",
    "        return sample"
   ]
  },
  {
   "cell_type": "code",
   "execution_count": 8,
   "metadata": {},
   "outputs": [],
   "source": [
    "class Categorical(nn.Module):\n",
    "    def __init__(self, n_classes, n_logits, temperature=1.):\n",
    "        super(Categorical, self).__init__()\n",
    "        self.n_logits = n_logits\n",
    "        self.n_classes = n_classes\n",
    "        self.logits = nn.Parameter(\n",
    "            torch.Tensor(n_logits, n_classes))\n",
    "        self.logits = nn.init.normal_(self.logits) \n",
    "        self.temperature = temperature\n",
    "\n",
    "    def sample(self, n_sample, seed=13):\n",
    "        logits = self.logits\n",
    "        with util.TorchSeedContext(seed):\n",
    "            if self.training:\n",
    "                m = dists.RelaxedOneHotCategorical(\n",
    "                    self.temperature,\n",
    "                    logits=logits,\n",
    "                )\n",
    "                sample = m.rsample([n_sample])\n",
    "                # print(sample)\n",
    "                return sample\n",
    "            m = dists.OneHotCategorical(logits=logits)\n",
    "            sample = m.sample([n_sample])\n",
    "            return sample"
   ]
  },
  {
   "cell_type": "code",
   "execution_count": 9,
   "metadata": {},
   "outputs": [],
   "source": [
    "class NeuralMachine(ebm.LatentEBM):\n",
    "    \n",
    "    var_type_latent = None\n",
    "    var_type_obs = None\n",
    "\n",
    "    def __init__(self, din, emb_d, n_classes, d1=10, d2=10):\n",
    "        super(NeuralMachine, self).__init__()\n",
    "        self.din = din\n",
    "        self.emb_d = emb_d\n",
    "        self.n_classs = n_classes\n",
    "        \n",
    "        self.W = nn.Parameter(\n",
    "            torch.Tensor(emb_d, n_classes))\n",
    "        self.W = nn.init.normal_(self.W) \n",
    "        self.lin1 = nn.Linear(emb_d*din, d1)\n",
    "        self.lin2 = nn.Linear(d1, d2)\n",
    "        self.lin3 = nn.Linear(d2, 1)\n",
    "\n",
    "    def forward(self, X, Z):\n",
    "        W = self.W\n",
    "        Y = torch.einsum('ijk, dk->ijd', X, W, )\n",
    "        Y = Y.reshape(Y.shape[0], -1)\n",
    "        Y = self.lin1(Y).relu()\n",
    "        Y = self.lin2(Y).relu()\n",
    "        Y = self.lin3(Y).tanh().squeeze()\n",
    "        return Y\n",
    "    \n",
    "    def score_marginal_obs(self, X):\n",
    "        D = util.forward_diff_onehot(self.forward, 0,\n",
    "                                     [X, None])\n",
    "        return torch.exp(D) - 1."
   ]
  },
  {
   "cell_type": "code",
   "execution_count": 10,
   "metadata": {},
   "outputs": [],
   "source": [
    "dx = 50"
   ]
  },
  {
   "cell_type": "code",
   "execution_count": 11,
   "metadata": {},
   "outputs": [],
   "source": [
    "blzm = NeuralMachine(din=dx, emb_d=3, n_classes=2)"
   ]
  },
  {
   "cell_type": "code",
   "execution_count": 12,
   "metadata": {},
   "outputs": [],
   "source": [
    "cm = CategoricalMixture(100, 10, 10, 30, n_classes=2, n_logits=dx, temperature=1.)"
   ]
  },
  {
   "cell_type": "code",
   "execution_count": 13,
   "metadata": {},
   "outputs": [],
   "source": [
    "c = Categorical(n_classes=2, n_logits=dx)"
   ]
  },
  {
   "cell_type": "code",
   "execution_count": 36,
   "metadata": {},
   "outputs": [],
   "source": [
    "k = kernel.OHKGauss(2, torch.tensor(dx))"
   ]
  },
  {
   "cell_type": "code",
   "execution_count": 37,
   "metadata": {},
   "outputs": [],
   "source": [
    "ksd = scem_loss.KSD(k, blzm.score_marginal_obs)\n",
    "iksd = scem_loss.IncompleteKSD(k, blzm.score_marginal_obs)"
   ]
  },
  {
   "cell_type": "code",
   "execution_count": 38,
   "metadata": {},
   "outputs": [],
   "source": [
    "opt_cm = torch.optim.Adam(cm.parameters(), lr=1e-3,\n",
    "                          weight_decay=0.)\n",
    "opt_c = torch.optim.Adam(c.parameters(), lr=1e-3,\n",
    "                          weight_decay=0.)\n",
    "niter = 300\n",
    "n = 300\n",
    "test_n = 300\n",
    "batch_size = 100"
   ]
  },
  {
   "cell_type": "code",
   "execution_count": 39,
   "metadata": {},
   "outputs": [],
   "source": [
    "def get_minibatch(batch_size, X, detach=True):\n",
    "    perm = torch.randperm(X.shape[0]).detach()\n",
    "    idx = perm[:batch_size]\n",
    "    X_ = X[idx]\n",
    "    if detach:\n",
    "        X_ = X_.detach()\n",
    "    return X_"
   ]
  },
  {
   "cell_type": "code",
   "execution_count": 40,
   "metadata": {},
   "outputs": [
    {
     "name": "stdout",
     "output_type": "stream",
     "text": [
      "-0.0004828746181668339\n",
      "0.0014482136023128828\n",
      "0.0023830518843931375\n",
      "2.929340219196806e-05\n",
      "-0.0006897552422981474\n",
      "0.0004027403361348956\n",
      "-0.00016410497275065266\n",
      "-0.0009453144079889186\n",
      "0.0007830735500087311\n",
      "-9.15384969693132e-05\n",
      "0.00106079833313254\n",
      "7.047450501784841e-05\n",
      "-0.0005205366554206506\n",
      "-0.00087363144106545\n",
      "0.0014099576061479514\n",
      "-0.0008275698577217868\n",
      "-0.00013601143184401723\n",
      "0.0011672399051910311\n",
      "0.0022477032655000913\n",
      "0.00017668388506699852\n",
      "0.002740200649415475\n"
     ]
    },
    {
     "ename": "KeyboardInterrupt",
     "evalue": "",
     "output_type": "error",
     "traceback": [
      "\u001b[0;31m---------------------------------------------------------------------------\u001b[0m",
      "\u001b[0;31mKeyboardInterrupt\u001b[0m                         Traceback (most recent call last)",
      "\u001b[0;32m<ipython-input-40-0c615ab7e04a>\u001b[0m in \u001b[0;36m<module>\u001b[0;34m\u001b[0m\n\u001b[1;32m     11\u001b[0m         \u001b[0mcm\u001b[0m\u001b[0;34m.\u001b[0m\u001b[0meval\u001b[0m\u001b[0;34m(\u001b[0m\u001b[0;34m)\u001b[0m\u001b[0;34m\u001b[0m\u001b[0m\n\u001b[1;32m     12\u001b[0m         \u001b[0mX_\u001b[0m \u001b[0;34m=\u001b[0m \u001b[0mcm\u001b[0m\u001b[0;34m.\u001b[0m\u001b[0msample\u001b[0m\u001b[0;34m(\u001b[0m\u001b[0mtest_n\u001b[0m\u001b[0;34m,\u001b[0m \u001b[0mseed\u001b[0m\u001b[0;34m=\u001b[0m\u001b[0mi\u001b[0m\u001b[0;34m)\u001b[0m\u001b[0;34m\u001b[0m\u001b[0m\n\u001b[0;32m---> 13\u001b[0;31m         \u001b[0mtest_loss\u001b[0m \u001b[0;34m=\u001b[0m \u001b[0mksd\u001b[0m\u001b[0;34m.\u001b[0m\u001b[0mloss\u001b[0m\u001b[0;34m(\u001b[0m\u001b[0mX_\u001b[0m\u001b[0;34m)\u001b[0m\u001b[0;34m\u001b[0m\u001b[0m\n\u001b[0m\u001b[1;32m     14\u001b[0m         \u001b[0mcm\u001b[0m\u001b[0;34m.\u001b[0m\u001b[0mtrain\u001b[0m\u001b[0;34m(\u001b[0m\u001b[0;34m)\u001b[0m\u001b[0;34m\u001b[0m\u001b[0m\n\u001b[1;32m     15\u001b[0m         \u001b[0mprint\u001b[0m\u001b[0;34m(\u001b[0m\u001b[0mtest_loss\u001b[0m\u001b[0;34m.\u001b[0m\u001b[0mitem\u001b[0m\u001b[0;34m(\u001b[0m\u001b[0;34m)\u001b[0m\u001b[0;34m)\u001b[0m\u001b[0;34m\u001b[0m\u001b[0m\n",
      "\u001b[0;32m~/Work/score-EM/scem/loss.py\u001b[0m in \u001b[0;36mloss\u001b[0;34m(self, X)\u001b[0m\n\u001b[1;32m     29\u001b[0m         \u001b[0mscore_fn\u001b[0m \u001b[0;34m=\u001b[0m \u001b[0mself\u001b[0m\u001b[0;34m.\u001b[0m\u001b[0mscore_fn\u001b[0m\u001b[0;34m\u001b[0m\u001b[0m\n\u001b[1;32m     30\u001b[0m         \u001b[0mk\u001b[0m \u001b[0;34m=\u001b[0m \u001b[0mself\u001b[0m\u001b[0;34m.\u001b[0m\u001b[0mk\u001b[0m\u001b[0;34m\u001b[0m\u001b[0m\n\u001b[0;32m---> 31\u001b[0;31m         \u001b[0;32mreturn\u001b[0m \u001b[0mksd_ustat\u001b[0m\u001b[0;34m(\u001b[0m\u001b[0mX\u001b[0m\u001b[0;34m,\u001b[0m \u001b[0mscore_fn\u001b[0m\u001b[0;34m,\u001b[0m \u001b[0mk\u001b[0m\u001b[0;34m)\u001b[0m\u001b[0;34m\u001b[0m\u001b[0m\n\u001b[0m\u001b[1;32m     32\u001b[0m \u001b[0;34m\u001b[0m\u001b[0m\n\u001b[1;32m     33\u001b[0m \u001b[0;34m\u001b[0m\u001b[0m\n",
      "\u001b[0;32m~/Work/score-EM/scem/stein.py\u001b[0m in \u001b[0;36mksd_ustat\u001b[0;34m(X, score_fn, k, return_variance)\u001b[0m\n\u001b[1;32m     82\u001b[0m     \u001b[0mn\u001b[0m \u001b[0;34m=\u001b[0m \u001b[0mX\u001b[0m\u001b[0;34m.\u001b[0m\u001b[0mshape\u001b[0m\u001b[0;34m[\u001b[0m\u001b[0;36m0\u001b[0m\u001b[0;34m]\u001b[0m\u001b[0;34m\u001b[0m\u001b[0m\n\u001b[1;32m     83\u001b[0m     \u001b[0mS\u001b[0m \u001b[0;34m=\u001b[0m \u001b[0mscore_fn\u001b[0m\u001b[0;34m(\u001b[0m\u001b[0mX\u001b[0m\u001b[0;34m)\u001b[0m\u001b[0;34m\u001b[0m\u001b[0m\n\u001b[0;32m---> 84\u001b[0;31m     \u001b[0mH\u001b[0m \u001b[0;34m=\u001b[0m \u001b[0mksd_ustat_gram\u001b[0m\u001b[0;34m(\u001b[0m\u001b[0mX\u001b[0m\u001b[0;34m,\u001b[0m \u001b[0mS\u001b[0m\u001b[0;34m,\u001b[0m \u001b[0mk\u001b[0m\u001b[0;34m)\u001b[0m\u001b[0;34m\u001b[0m\u001b[0m\n\u001b[0m\u001b[1;32m     85\u001b[0m     \u001b[0mstat\u001b[0m \u001b[0;34m=\u001b[0m \u001b[0;34m(\u001b[0m\u001b[0mtorch\u001b[0m\u001b[0;34m.\u001b[0m\u001b[0msum\u001b[0m\u001b[0;34m(\u001b[0m\u001b[0mH\u001b[0m\u001b[0;34m)\u001b[0m \u001b[0;34m-\u001b[0m \u001b[0mtorch\u001b[0m\u001b[0;34m.\u001b[0m\u001b[0msum\u001b[0m\u001b[0;34m(\u001b[0m\u001b[0mtorch\u001b[0m\u001b[0;34m.\u001b[0m\u001b[0mdiag\u001b[0m\u001b[0;34m(\u001b[0m\u001b[0mH\u001b[0m\u001b[0;34m)\u001b[0m\u001b[0;34m)\u001b[0m\u001b[0;34m)\u001b[0m\u001b[0;34m\u001b[0m\u001b[0m\n\u001b[1;32m     86\u001b[0m     \u001b[0mstat\u001b[0m \u001b[0;34m/=\u001b[0m \u001b[0;34m(\u001b[0m\u001b[0mn\u001b[0m\u001b[0;34m*\u001b[0m\u001b[0;34m(\u001b[0m\u001b[0mn\u001b[0m\u001b[0;34m-\u001b[0m\u001b[0;36m1\u001b[0m\u001b[0;34m)\u001b[0m\u001b[0;34m)\u001b[0m\u001b[0;34m\u001b[0m\u001b[0m\n",
      "\u001b[0;32m~/Work/score-EM/scem/stein.py\u001b[0m in \u001b[0;36mksd_ustat_gram\u001b[0;34m(X, S, k)\u001b[0m\n\u001b[1;32m     31\u001b[0m     \u001b[0mkG\u001b[0m \u001b[0;34m=\u001b[0m \u001b[0mk\u001b[0m\u001b[0;34m.\u001b[0m\u001b[0mgradX\u001b[0m\u001b[0;34m(\u001b[0m\u001b[0mX\u001b[0m\u001b[0;34m,\u001b[0m \u001b[0mX\u001b[0m\u001b[0;34m)\u001b[0m\u001b[0;34m\u001b[0m\u001b[0m\n\u001b[1;32m     32\u001b[0m     \u001b[0mB\u001b[0m \u001b[0;34m=\u001b[0m \u001b[0mtorch\u001b[0m\u001b[0;34m.\u001b[0m\u001b[0meinsum\u001b[0m\u001b[0;34m(\u001b[0m\u001b[0;34m'ijk,jk->ij'\u001b[0m\u001b[0;34m,\u001b[0m \u001b[0mkG\u001b[0m\u001b[0;34m,\u001b[0m \u001b[0mS\u001b[0m\u001b[0;34m)\u001b[0m\u001b[0;34m\u001b[0m\u001b[0m\n\u001b[0;32m---> 33\u001b[0;31m     \u001b[0mh\u001b[0m \u001b[0;34m=\u001b[0m \u001b[0mK\u001b[0m\u001b[0;34m*\u001b[0m\u001b[0mgram_score\u001b[0m \u001b[0;34m+\u001b[0m \u001b[0mB\u001b[0m \u001b[0;34m+\u001b[0m \u001b[0mB\u001b[0m\u001b[0;34m.\u001b[0m\u001b[0mT\u001b[0m \u001b[0;34m+\u001b[0m \u001b[0mk\u001b[0m\u001b[0;34m.\u001b[0m\u001b[0mgradXY_sum\u001b[0m\u001b[0;34m(\u001b[0m\u001b[0mX\u001b[0m\u001b[0;34m,\u001b[0m \u001b[0mX\u001b[0m\u001b[0;34m)\u001b[0m\u001b[0;34m\u001b[0m\u001b[0m\n\u001b[0m\u001b[1;32m     34\u001b[0m     \u001b[0;32mreturn\u001b[0m \u001b[0mh\u001b[0m\u001b[0;34m\u001b[0m\u001b[0m\n\u001b[1;32m     35\u001b[0m \u001b[0;34m\u001b[0m\u001b[0m\n",
      "\u001b[0;32m~/Work/score-EM/scem/kernel.py\u001b[0m in \u001b[0;36mgradXY_sum\u001b[0;34m(self, X, Y, shift)\u001b[0m\n\u001b[1;32m    267\u001b[0m             \u001b[0mY_\u001b[0m\u001b[0;34m[\u001b[0m\u001b[0;34m:\u001b[0m\u001b[0;34m,\u001b[0m \u001b[0mj\u001b[0m\u001b[0;34m]\u001b[0m \u001b[0;34m=\u001b[0m \u001b[0mY\u001b[0m\u001b[0;34m[\u001b[0m\u001b[0;34m:\u001b[0m\u001b[0;34m,\u001b[0m \u001b[0mj\u001b[0m\u001b[0;34m]\u001b[0m \u001b[0;34m@\u001b[0m \u001b[0mperm\u001b[0m\u001b[0;34m\u001b[0m\u001b[0m\n\u001b[1;32m    268\u001b[0m             K += (self.eval(X, Y) + self.eval(X_, Y_)\n\u001b[0;32m--> 269\u001b[0;31m                   - self.eval(X_, Y) - self.eval(X, Y_))\n\u001b[0m\u001b[1;32m    270\u001b[0m         \u001b[0;32mreturn\u001b[0m \u001b[0mK\u001b[0m\u001b[0;34m\u001b[0m\u001b[0m\n\u001b[1;32m    271\u001b[0m \u001b[0;34m\u001b[0m\u001b[0m\n",
      "\u001b[0;32m~/Work/score-EM/scem/kernel.py\u001b[0m in \u001b[0;36meval\u001b[0;34m(self, X, Y)\u001b[0m\n\u001b[1;32m    866\u001b[0m         \u001b[0mX_\u001b[0m \u001b[0;34m=\u001b[0m \u001b[0mX\u001b[0m\u001b[0;34m.\u001b[0m\u001b[0mreshape\u001b[0m\u001b[0;34m(\u001b[0m\u001b[0mnx\u001b[0m\u001b[0;34m,\u001b[0m \u001b[0;34m-\u001b[0m\u001b[0;36m1\u001b[0m\u001b[0;34m)\u001b[0m\u001b[0;34m\u001b[0m\u001b[0m\n\u001b[1;32m    867\u001b[0m         \u001b[0mY_\u001b[0m \u001b[0;34m=\u001b[0m \u001b[0mY\u001b[0m\u001b[0;34m.\u001b[0m\u001b[0mreshape\u001b[0m\u001b[0;34m(\u001b[0m\u001b[0mny\u001b[0m\u001b[0;34m,\u001b[0m \u001b[0;34m-\u001b[0m\u001b[0;36m1\u001b[0m\u001b[0;34m)\u001b[0m\u001b[0;34m\u001b[0m\u001b[0m\n\u001b[0;32m--> 868\u001b[0;31m         \u001b[0mD2\u001b[0m \u001b[0;34m=\u001b[0m \u001b[0mutil\u001b[0m\u001b[0;34m.\u001b[0m\u001b[0mpt_dist2_matrix\u001b[0m\u001b[0;34m(\u001b[0m\u001b[0mX_\u001b[0m\u001b[0;34m,\u001b[0m \u001b[0mY_\u001b[0m\u001b[0;34m)\u001b[0m\u001b[0;34m\u001b[0m\u001b[0m\n\u001b[0m\u001b[1;32m    869\u001b[0m         \u001b[0;32mreturn\u001b[0m \u001b[0mtorch\u001b[0m\u001b[0;34m.\u001b[0m\u001b[0mexp\u001b[0m\u001b[0;34m(\u001b[0m\u001b[0;34m-\u001b[0m\u001b[0mD2\u001b[0m\u001b[0;34m/\u001b[0m\u001b[0mself\u001b[0m\u001b[0;34m.\u001b[0m\u001b[0msigma2\u001b[0m\u001b[0;34m)\u001b[0m\u001b[0;34m\u001b[0m\u001b[0m\n\u001b[1;32m    870\u001b[0m \u001b[0;34m\u001b[0m\u001b[0m\n",
      "\u001b[0;32m~/Work/score-EM/scem/util.py\u001b[0m in \u001b[0;36mpt_dist2_matrix\u001b[0;34m(X, Y)\u001b[0m\n\u001b[1;32m     63\u001b[0m         \u001b[0my_norm\u001b[0m \u001b[0;34m=\u001b[0m \u001b[0mx_norm\u001b[0m\u001b[0;34m.\u001b[0m\u001b[0mview\u001b[0m\u001b[0;34m(\u001b[0m\u001b[0;36m1\u001b[0m\u001b[0;34m,\u001b[0m \u001b[0;34m-\u001b[0m\u001b[0;36m1\u001b[0m\u001b[0;34m)\u001b[0m\u001b[0;34m\u001b[0m\u001b[0m\n\u001b[1;32m     64\u001b[0m \u001b[0;34m\u001b[0m\u001b[0m\n\u001b[0;32m---> 65\u001b[0;31m     \u001b[0mdist\u001b[0m \u001b[0;34m=\u001b[0m \u001b[0mx_norm\u001b[0m \u001b[0;34m+\u001b[0m \u001b[0my_norm\u001b[0m \u001b[0;34m-\u001b[0m \u001b[0;36m2.0\u001b[0m \u001b[0;34m*\u001b[0m \u001b[0mtorch\u001b[0m\u001b[0;34m.\u001b[0m\u001b[0mmm\u001b[0m\u001b[0;34m(\u001b[0m\u001b[0mX\u001b[0m\u001b[0;34m,\u001b[0m \u001b[0mtorch\u001b[0m\u001b[0;34m.\u001b[0m\u001b[0mtranspose\u001b[0m\u001b[0;34m(\u001b[0m\u001b[0mY\u001b[0m\u001b[0;34m,\u001b[0m \u001b[0;36m0\u001b[0m\u001b[0;34m,\u001b[0m \u001b[0;36m1\u001b[0m\u001b[0;34m)\u001b[0m\u001b[0;34m)\u001b[0m\u001b[0;34m\u001b[0m\u001b[0m\n\u001b[0m\u001b[1;32m     66\u001b[0m     \u001b[0;31m# Some entries can be very small negative\u001b[0m\u001b[0;34m\u001b[0m\u001b[0;34m\u001b[0m\u001b[0m\n\u001b[1;32m     67\u001b[0m     \u001b[0mdist\u001b[0m\u001b[0;34m[\u001b[0m\u001b[0mdist\u001b[0m \u001b[0;34m<=\u001b[0m \u001b[0;36m0\u001b[0m\u001b[0;34m]\u001b[0m \u001b[0;34m=\u001b[0m \u001b[0;36m0.0\u001b[0m\u001b[0;34m\u001b[0m\u001b[0m\n",
      "\u001b[0;31mKeyboardInterrupt\u001b[0m: "
     ]
    }
   ],
   "source": [
    "losses = []\n",
    "for i in range(niter):\n",
    "    X = cm.sample(n, seed=0)\n",
    "    # loss = ksd.loss(X)\n",
    "    i1, i2 = util.sample_incomplete_ustat_batch(n, batch_size)\n",
    "    loss = iksd.loss(X[i1], X[i2])\n",
    "    opt_cm.zero_grad()\n",
    "    loss.backward(retain_graph=False)\n",
    "    opt_cm.step()   \n",
    "    if i % 1 == 0:\n",
    "        cm.eval()\n",
    "        X_ = cm.sample(test_n, seed=i)\n",
    "        test_loss = ksd.loss(X_)\n",
    "        cm.train()\n",
    "        print(test_loss.item())\n",
    "        losses += [test_loss.item()]"
   ]
  },
  {
   "cell_type": "code",
   "execution_count": 21,
   "metadata": {},
   "outputs": [
    {
     "data": {
      "text/plain": [
       "[<matplotlib.lines.Line2D at 0x11d774160>]"
      ]
     },
     "execution_count": 21,
     "metadata": {},
     "output_type": "execute_result"
    },
    {
     "data": {
      "image/png": "[encoded data removed]",
      "text/plain": [
       "<Figure size 432x288 with 1 Axes>"
      ]
     },
     "metadata": {
      "needs_background": "light"
     },
     "output_type": "display_data"
    }
   ],
   "source": [
    "plt.plot(losses)"
   ]
  },
  {
   "cell_type": "code",
   "execution_count": 22,
   "metadata": {},
   "outputs": [
    {
     "name": "stdout",
     "output_type": "stream",
     "text": [
      "0.544359853074965\n",
      "0.5756639927000333\n",
      "0.5500342842997071\n",
      "0.5602590908628381\n",
      "0.5627531427770522\n",
      "0.5546038384824741\n",
      "0.5641365766675774\n",
      "0.5550280196674231\n",
      "0.5581923930691648\n",
      "0.5600303967444079\n",
      "0.5503532530080854\n",
      "0.5413238411697349\n",
      "0.5311872200709414\n",
      "0.5278210669832445\n",
      "0.5063871633193584\n",
      "0.5297217907998866\n",
      "0.5043919035464934\n",
      "0.5499611682574262\n",
      "0.5189052884910064\n",
      "0.5164246795001534\n",
      "0.5435772206982387\n",
      "0.5047438027898812\n",
      "0.5212567714805563\n",
      "0.4886458543386748\n",
      "0.5204634893448367\n",
      "0.542580264829701\n",
      "0.4941387044503254\n",
      "0.5361322635653678\n",
      "0.5142198076502517\n",
      "0.5174621956216685\n",
      "0.5372078352787366\n",
      "0.5160024419191047\n",
      "0.509410203733474\n",
      "0.5341390631885007\n",
      "0.5034085466424331\n",
      "0.510410972363878\n",
      "0.5537937481501776\n",
      "0.5456877503683223\n",
      "0.4806900742597867\n",
      "0.5009626095991028\n",
      "0.5097068984977905\n",
      "0.5054138684460979\n",
      "0.514234869243539\n",
      "0.4678844807144905\n",
      "0.4966512861673527\n",
      "0.49639443765139585\n",
      "0.48897316147590536\n",
      "0.4917393652123577\n",
      "0.5119155029477123\n",
      "0.4923034778565115\n",
      "0.47404254204539026\n",
      "0.5015340053291544\n",
      "0.4802624803809319\n",
      "0.4842771899473224\n",
      "0.5069161439785089\n",
      "0.4510333422305602\n",
      "0.4879337320537191\n",
      "0.5089756687334688\n",
      "0.47389277742487884\n",
      "0.4698030440033482\n",
      "0.46107948231943263\n",
      "0.4987431123735367\n",
      "0.4807867800031406\n",
      "0.47105513902559093\n",
      "0.4779598413466687\n",
      "0.47692373683067124\n",
      "0.4883012885799843\n",
      "0.4593117415271363\n",
      "0.47403062667902734\n",
      "0.4642312263032367\n",
      "0.4733094225291899\n",
      "0.4731676764028972\n",
      "0.44134070514143686\n",
      "0.42812456241736485\n",
      "0.47886916218309145\n",
      "0.45313345719855325\n",
      "0.4877943518481022\n",
      "0.46763228140192403\n",
      "0.4336906788989735\n",
      "0.45210538576757187\n",
      "0.4858671703860283\n",
      "0.46393332516973024\n",
      "0.4300056077888655\n",
      "0.45446811415583477\n",
      "0.4282836572727381\n",
      "0.443511707526663\n",
      "0.4379039744806675\n",
      "0.45065066319061403\n",
      "0.4372111668699694\n",
      "0.45702555747663703\n",
      "0.44795322056634723\n",
      "0.4423881002971839\n",
      "0.44634405611022443\n",
      "0.4358761975892593\n",
      "0.44755872917543643\n",
      "0.4208198422018722\n",
      "0.452287408382509\n",
      "0.44341410446396123\n",
      "0.4274179662576459\n",
      "0.42798299757764974\n",
      "0.432829139248948\n",
      "0.4459922795063292\n",
      "0.4272691292951933\n",
      "0.45155290432402423\n",
      "0.4231755311721195\n",
      "0.4206034040555787\n",
      "0.4497817400027323\n",
      "0.414570665231208\n",
      "0.41871468710807985\n",
      "0.4236823954226664\n",
      "0.42250720028292926\n",
      "0.4196665927782266\n",
      "0.43445952327137327\n",
      "0.40692494935018425\n",
      "0.4251982979592486\n",
      "0.4262804698117852\n",
      "0.4275409528034763\n",
      "0.4109203927462589\n",
      "0.40533821622041694\n",
      "0.4085564183981126\n",
      "0.3974843285322296\n",
      "0.4292392377569193\n",
      "0.4099814197458971\n",
      "0.410639950130643\n",
      "0.42345410171100956\n",
      "0.41871226236116527\n",
      "0.4005823186905776\n",
      "0.40882071089175365\n",
      "0.40468506104693003\n",
      "0.4224660670922369\n",
      "0.3884692768670498\n",
      "0.4012320975743196\n",
      "0.39049655599785016\n",
      "0.40543705016844744\n",
      "0.39959790578125526\n",
      "0.39467312804688987\n",
      "0.41072535474890354\n",
      "0.3936382392677034\n",
      "0.39732483598794427\n",
      "0.4030916400446702\n",
      "0.40800400186610414\n",
      "0.40225935574128996\n",
      "0.3831431556485494\n",
      "0.38791835909133915\n",
      "0.3703269311768474\n",
      "0.3993256667712975\n",
      "0.3874891745661278\n",
      "0.39219285336495907\n",
      "0.37587164400913137\n",
      "0.38822826399032867\n",
      "0.3877630897052118\n",
      "0.36607654284739627\n",
      "0.3838352529498756\n",
      "0.38052105611010023\n",
      "0.36109148254302215\n",
      "0.37112106100348174\n",
      "0.3790031379821087\n",
      "0.3960984043888225\n",
      "0.36477159355932737\n",
      "0.3866486773110581\n",
      "0.38408766001780076\n",
      "0.3747688471288577\n",
      "0.39063911020099495\n",
      "0.38309769366271\n",
      "0.3740603887157788\n",
      "0.3455959534118058\n",
      "0.37707861541063753\n",
      "0.3782704466870772\n",
      "0.3699699441304871\n",
      "0.36233170426708855\n",
      "0.35617978981809695\n",
      "0.3754164374854633\n",
      "0.3400683208574791\n",
      "0.3497197824474438\n",
      "0.36477216123858436\n",
      "0.3715058542687113\n",
      "0.3639568440105172\n",
      "0.3636290575109746\n",
      "0.34277540484252017\n",
      "0.3345092403150976\n",
      "0.3474569356735821\n",
      "0.3643065772020347\n",
      "0.34204589210881686\n",
      "0.35074713626924325\n",
      "0.34525119973280133\n",
      "0.355061905620729\n",
      "0.3532627821766436\n",
      "0.3724217123996053\n",
      "0.34461070562824675\n",
      "0.3561422334047801\n",
      "0.3397066852882862\n",
      "0.34291945743927765\n",
      "0.33907632864722803\n",
      "0.34652179781274317\n",
      "0.33051364365447145\n",
      "0.34734454306301965\n",
      "0.3440465982994466\n",
      "0.35017782644927187\n",
      "0.3269836922839875\n",
      "0.34760863198526404\n",
      "0.3402158811102388\n",
      "0.3369169362598675\n",
      "0.32438502555962523\n",
      "0.3280776764625722\n",
      "0.33224637626136627\n",
      "0.35022916151934946\n",
      "0.32222300171245183\n",
      "0.32653672711834275\n",
      "0.3276723239196563\n",
      "0.3156112628818897\n",
      "0.34680577805678764\n",
      "0.33024800081387234\n",
      "0.32287105614768474\n",
      "0.3219001946001229\n",
      "0.33317285471947095\n",
      "0.3433523840323706\n",
      "0.32850093930368685\n",
      "0.3534568109377606\n",
      "0.3276243496171389\n",
      "0.2966894283433372\n",
      "0.30881201048246043\n",
      "0.3103363450072367\n",
      "0.32994706477410424\n",
      "0.3048513384960062\n",
      "0.3117350175914593\n",
      "0.3150058449290546\n",
      "0.3033746672649924\n",
      "0.31550399681496694\n",
      "0.3187956208084106\n",
      "0.3229727399689305\n",
      "0.30043132719049953\n",
      "0.3144788380971244\n",
      "0.31554340496259614\n",
      "0.29794582501838107\n",
      "0.30049005360737535\n",
      "0.2878855005350461\n",
      "0.2976705657864294\n",
      "0.2870889833066168\n",
      "0.3135307778250097\n",
      "0.2943546237321348\n",
      "0.31241849442783703\n",
      "0.3035505724976016\n",
      "0.30670152410305873\n",
      "0.30223362872137277\n",
      "0.2923432503053866\n",
      "0.32066068114152874\n",
      "0.28978492155264085\n",
      "0.3082988655791004\n",
      "0.31584404168350455\n",
      "0.2951200394756214\n",
      "0.2972117514678512\n",
      "0.30392154057777593\n",
      "0.3197117599758488\n",
      "0.29848966987144515\n",
      "0.32012594275912165\n",
      "0.300738011842785\n",
      "0.28357918275897165\n",
      "0.282323570199346\n",
      "0.2992968852755178\n",
      "0.2904920044104416\n",
      "0.28975447430841733\n",
      "0.28224036560152405\n",
      "0.27493981240691895\n",
      "0.27839496933281344\n",
      "0.2916784022606317\n",
      "0.28020133377405537\n",
      "0.2743894654539361\n",
      "0.28961570673395254\n",
      "0.27831911687906297\n",
      "0.2909298956479649\n",
      "0.2911104184981486\n",
      "0.2903133509696669\n",
      "0.27155477695504715\n",
      "0.2728409571091774\n",
      "0.27549879745206807\n",
      "0.26644432989496414\n",
      "0.2902338016141153\n",
      "0.27774129106273565\n",
      "0.26848365061315765\n",
      "0.2633227993436166\n",
      "0.2699029099999056\n",
      "0.28781574065655224\n",
      "0.2990406388008283\n",
      "0.26999702002912\n",
      "0.2905028105296904\n",
      "0.28561393226075177\n",
      "0.2740748687157441\n",
      "0.28426890773385244\n",
      "0.2921204027947156\n",
      "0.30076175644158315\n",
      "0.26382388653520994\n",
      "0.27042561245889457\n",
      "0.2529306616918384\n",
      "0.26357474128776787\n",
      "0.2694833809027038\n",
      "0.2689239287405751\n",
      "0.26466846735627547\n",
      "0.2514374491842425\n",
      "0.2855394659019371\n",
      "0.2644792738073019\n"
     ]
    }
   ],
   "source": [
    "c_losses = []\n",
    "for i in range(niter):\n",
    "    X = c.sample(n, seed=0)\n",
    "    loss = ksd.loss(X)\n",
    "    opt_c.zero_grad()\n",
    "    loss.backward(retain_graph=False)\n",
    "    opt_c.step()   \n",
    "    if i % 1 == 0:\n",
    "        c.eval()\n",
    "        X_ = c.sample(test_n, seed=i)\n",
    "        test_loss = ksd.loss(X_)\n",
    "        c.train()\n",
    "        print(test_loss.item())\n",
    "        c_losses += [test_loss.item()]"
   ]
  },
  {
   "cell_type": "code",
   "execution_count": 33,
   "metadata": {},
   "outputs": [],
   "source": [
    "import numpy as np\n",
    "losses_ = [np.abs(l) for l in losses]\n",
    "c_losses_ = [np.abs(l) for l in c_losses]"
   ]
  },
  {
   "cell_type": "code",
   "execution_count": 34,
   "metadata": {},
   "outputs": [
    {
     "data": {
      "text/plain": [
       "<matplotlib.legend.Legend at 0x12d971f60>"
      ]
     },
     "execution_count": 34,
     "metadata": {},
     "output_type": "execute_result"
    },
    {
     "data": {
      "image/png": "[encoded data removed]",
      "text/plain": [
       "<Figure size 432x288 with 1 Axes>"
      ]
     },
     "metadata": {
      "needs_background": "light"
     },
     "output_type": "display_data"
    }
   ],
   "source": [
    "plt.plot(c_losses_, label='independent')\n",
    "plt.plot(losses_, label='mixture')\n",
    "plt.xlabel('iter')\n",
    "plt.ylabel('test KSD')\n",
    "plt.yscale('log')\n",
    "\n",
    "plt.legend()"
   ]
  }
 ],
 "metadata": {
  "kernelspec": {
   "display_name": "Python 3",
   "language": "python",
   "name": "python3"
  },
  "language_info": {
   "codemirror_mode": {
    "name": "ipython",
    "version": 3
   },
   "file_extension": ".py",
   "mimetype": "text/x-python",
   "name": "python",
   "nbconvert_exporter": "python",
   "pygments_lexer": "ipython3",
   "version": "3.6.5"
  }
 },
 "nbformat": 4,
 "nbformat_minor": 4
}
