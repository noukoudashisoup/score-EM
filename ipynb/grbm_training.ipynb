{
 "cells": [
  {
   "cell_type": "code",
   "execution_count": 1,
   "metadata": {},
   "outputs": [],
   "source": [
    "%load_ext autoreload\n",
    "%autoreload 2"
   ]
  },
  {
   "cell_type": "code",
   "execution_count": 2,
   "metadata": {},
   "outputs": [],
   "source": [
    "import matplotlib\n",
    "from matplotlib import pyplot as plt\n",
    "%matplotlib inline\n",
    "\n",
    "import numpy as np"
   ]
  },
  {
   "cell_type": "code",
   "execution_count": 3,
   "metadata": {},
   "outputs": [],
   "source": [
    "plt.rc('lines', linewidth=2, markersize=10)\n",
    "from matplotlib import rcParams\n",
    "rcParams.update({'figure.autolayout': False})"
   ]
  },
  {
   "cell_type": "code",
   "execution_count": 4,
   "metadata": {},
   "outputs": [],
   "source": [
    "from scem import gen, stein, kernel, ebm\n",
    "from scem import util\n",
    "import torch"
   ]
  },
  {
   "cell_type": "code",
   "execution_count": 5,
   "metadata": {},
   "outputs": [],
   "source": [
    "seed = 13\n",
    "torch.manual_seed(seed)\n",
    "n = 300\n",
    "neval = 1000\n",
    "dx = 5\n",
    "dz = 3\n",
    "W = torch.randn([dx, dz]) / (dx * dz)**0.5\n",
    "b = torch.randn([dx, ])\n",
    "c = torch.randn([dz, ])\n",
    "grbm = ebm.GaussianRBM(W, b, c)"
   ]
  },
  {
   "cell_type": "code",
   "execution_count": 6,
   "metadata": {},
   "outputs": [],
   "source": [
    "X = grbm.sample(n, n_burnin=500)\n",
    "Xeval = grbm.sample(neval, n_burnin=500, seed=seed+14)"
   ]
  },
  {
   "cell_type": "code",
   "execution_count": 7,
   "metadata": {},
   "outputs": [],
   "source": [
    "# define kernels\n",
    "med2 = util.pt_meddistance(X)**2\n",
    "kx = kernel.KIMQ(b=-0.5, c=1, s2=med2)\n",
    "#kx = kernel.KGauss(torch.tensor([med2]))"
   ]
  },
  {
   "cell_type": "code",
   "execution_count": 8,
   "metadata": {},
   "outputs": [],
   "source": [
    "def init_weights(m):\n",
    "    if type(m) == torch.nn.Linear:\n",
    "        torch.nn.init.normal_(m.weight, std=0.01)\n",
    "        m.bias.data.fill_(0.)"
   ]
  },
  {
   "cell_type": "code",
   "execution_count": 9,
   "metadata": {},
   "outputs": [
    {
     "data": {
      "text/plain": [
       "CSGRBMBernoulliFamily(\n",
       "  (probs): ModuleList(\n",
       "    (0): Sequential(\n",
       "      (0): Linear(in_features=5, out_features=2, bias=True)\n",
       "      (1): Softmax(dim=-1)\n",
       "    )\n",
       "    (1): Sequential(\n",
       "      (0): Linear(in_features=5, out_features=2, bias=True)\n",
       "      (1): Softmax(dim=-1)\n",
       "    )\n",
       "    (2): Sequential(\n",
       "      (0): Linear(in_features=5, out_features=2, bias=True)\n",
       "      (1): Softmax(dim=-1)\n",
       "    )\n",
       "  )\n",
       ")"
      ]
     },
     "execution_count": 9,
     "metadata": {},
     "output_type": "execute_result"
    }
   ],
   "source": [
    "# q(z|x)\n",
    "cs = gen.CSGRBMBernoulliFamily(dx, dz)\n",
    "cs.apply(init_weights)"
   ]
  },
  {
   "cell_type": "code",
   "execution_count": 10,
   "metadata": {},
   "outputs": [],
   "source": [
    "# optimizer settings\n",
    "learning_rate_q = 1e-2\n",
    "weight_decay_q = 1e-2\n",
    "optimizer_q = torch.optim.Adam(cs.parameters(), lr=learning_rate_q,\n",
    "                               weight_decay=weight_decay_q)"
   ]
  },
  {
   "cell_type": "code",
   "execution_count": 11,
   "metadata": {},
   "outputs": [],
   "source": [
    "W0 = torch.ones([dx, dz])\n",
    "b0 = torch.zeros([dx,])\n",
    "c0 = torch.ones([dz,])\n",
    "p = ebm.GaussianRBM(W0, b0, c0)"
   ]
  },
  {
   "cell_type": "code",
   "execution_count": 12,
   "metadata": {},
   "outputs": [],
   "source": [
    "# optimizer settings\n",
    "learning_rate_p = 1e-2\n",
    "weight_decay_p = 1e-2\n",
    "optimizer_p = torch.optim.Adam(p.parameters(), lr=learning_rate_p,\n",
    "                               weight_decay=weight_decay_p)"
   ]
  },
  {
   "cell_type": "code",
   "execution_count": 13,
   "metadata": {},
   "outputs": [],
   "source": [
    "iter_q = 10\n",
    "iter_p = 300"
   ]
  },
  {
   "cell_type": "code",
   "execution_count": 14,
   "metadata": {},
   "outputs": [],
   "source": [
    "approx_score = stein.ApproximateScore(\n",
    "        p.score_joint_obs, cs)\n",
    "approx_score.n_sample = 500"
   ]
  },
  {
   "cell_type": "code",
   "execution_count": 15,
   "metadata": {},
   "outputs": [],
   "source": [
    "true_train_loss = torch.empty([iter_p])\n",
    "true_eval_loss = torch.empty([iter_p])\n",
    "approx_train_loss = torch.empty([iter_p])\n",
    "grad_loss_pq = torch.empty([iter_p])\n",
    "params = {\n",
    "    'W': torch.empty([iter_p, dx, dz]), \n",
    "    'b': torch.empty([iter_p, dx]),\n",
    "    'c': torch.empty([iter_p, dz]),\n",
    "}"
   ]
  },
  {
   "cell_type": "code",
   "execution_count": 16,
   "metadata": {},
   "outputs": [],
   "source": [
    "kz = kernel.OHKGauss(2, torch.tensor([1.*dz]))\n",
    "\n",
    "def inner_loop(niter):\n",
    "    for i in range(niter):\n",
    "        Z = cs.sample(1, X, seed+i).squeeze(0)\n",
    "        loss = stein.kcsd_ustat(\n",
    "            X, Z, p.score_joint_latent, kx, kz)\n",
    "        optimizer_q.zero_grad()\n",
    "        loss.backward(retain_graph=False)\n",
    "        optimizer_q.step()"
   ]
  },
  {
   "cell_type": "code",
   "execution_count": 17,
   "metadata": {
    "scrolled": true
   },
   "outputs": [
    {
     "name": "stdout",
     "output_type": "stream",
     "text": [
      "tensor(10.2978, grad_fn=<DivBackward0>) 9.56113338470459 10.309452056884766\n",
      "tensor(7.7106, grad_fn=<DivBackward0>) 7.602195739746094 8.224462509155273\n",
      "tensor(5.9143, grad_fn=<DivBackward0>) 5.797239303588867 6.309599876403809\n",
      "tensor(4.3859, grad_fn=<DivBackward0>) 4.454642295837402 4.8842854499816895\n",
      "tensor(3.3611, grad_fn=<DivBackward0>) 3.45609974861145 3.818495512008667\n",
      "tensor(2.6346, grad_fn=<DivBackward0>) 2.6977384090423584 3.001955270767212\n",
      "tensor(2.0511, grad_fn=<DivBackward0>) 2.1222689151763916 2.3771779537200928\n",
      "tensor(1.5600, grad_fn=<DivBackward0>) 1.6903280019760132 1.9054453372955322\n",
      "tensor(1.2290, grad_fn=<DivBackward0>) 1.370064377784729 1.5541086196899414\n",
      "tensor(1.0036, grad_fn=<DivBackward0>) 1.1334308385849 1.2924273014068604\n",
      "tensor(0.8278, grad_fn=<DivBackward0>) 0.9573758244514465 1.0959645509719849\n",
      "tensor(0.7139, grad_fn=<DivBackward0>) 0.8253889083862305 0.9472781419754028\n",
      "tensor(0.6151, grad_fn=<DivBackward0>) 0.726534366607666 0.8351432681083679\n",
      "tensor(0.5510, grad_fn=<DivBackward0>) 0.65185546875 0.7495736479759216\n",
      "tensor(0.5072, grad_fn=<DivBackward0>) 0.596147894859314 0.6854493618011475\n",
      "tensor(0.4751, grad_fn=<DivBackward0>) 0.5533206462860107 0.6356778144836426\n",
      "tensor(0.4537, grad_fn=<DivBackward0>) 0.5196927785873413 0.595928430557251\n",
      "tensor(0.4401, grad_fn=<DivBackward0>) 0.4970663785934448 0.5696120858192444\n",
      "tensor(0.4289, grad_fn=<DivBackward0>) 0.48184025287628174 0.5522144436836243\n",
      "tensor(0.4216, grad_fn=<DivBackward0>) 0.4685439169406891 0.5359066724777222\n",
      "tensor(0.4163, grad_fn=<DivBackward0>) 0.4584883153438568 0.5236424207687378\n",
      "tensor(0.4135, grad_fn=<DivBackward0>) 0.4509119391441345 0.5147479176521301\n",
      "tensor(0.4119, grad_fn=<DivBackward0>) 0.4458606243133545 0.5089082717895508\n",
      "tensor(0.4105, grad_fn=<DivBackward0>) 0.44257280230522156 0.5046036839485168\n",
      "tensor(0.4099, grad_fn=<DivBackward0>) 0.43783554434776306 0.4978279173374176\n",
      "tensor(0.4095, grad_fn=<DivBackward0>) 0.43380051851272583 0.4923488199710846\n",
      "tensor(0.4088, grad_fn=<DivBackward0>) 0.43396663665771484 0.49373072385787964\n",
      "tensor(0.4087, grad_fn=<DivBackward0>) 0.43325188755989075 0.4930264949798584\n",
      "tensor(0.4089, grad_fn=<DivBackward0>) 0.43098127841949463 0.48942846059799194\n",
      "tensor(0.4086, grad_fn=<DivBackward0>) 0.4309731125831604 0.4898983836174011\n"
     ]
    }
   ],
   "source": [
    "for t in range(iter_p):\n",
    "    inner_loop(iter_q)\n",
    "    loss = stein.ksd_ustat(X, approx_score, kx)\n",
    "    ksd_true = stein.ksd_ustat(X, p.score_marginal_obs, kx).item()\n",
    "    ksd_eval_true = stein.ksd_ustat(Xeval, p.score_marginal_obs, kx).item()\n",
    "    \n",
    "    true_train_loss[t] = ksd_true\n",
    "    approx_train_loss[t] = loss.item()\n",
    "    true_eval_loss[t] = ksd_eval_true\n",
    "    \n",
    "    if (t%10 == 0):\n",
    "        print(loss, ksd_true, ksd_eval_true)\n",
    "    \n",
    "    optimizer_p.zero_grad()\n",
    "    loss.backward(retain_graph=False)\n",
    "    optimizer_p.step()\n",
    "\n",
    "    params['W'][t] = p.W.data\n",
    "    params['b'][t] = p.b.data\n",
    "    params['c'][t] = p.c.data"
   ]
  },
  {
   "cell_type": "code",
   "execution_count": 18,
   "metadata": {},
   "outputs": [
    {
     "data": {
      "image/png": "[encoded data removed]",
      "text/plain": [
       "<Figure size 432x288 with 1 Axes>"
      ]
     },
     "metadata": {
      "needs_background": "light"
     },
     "output_type": "display_data"
    }
   ],
   "source": [
    "plt.plot(np.arange(iter_p), true_eval_loss[:iter_p].detach().numpy(), '-', label='true KSD test')\n",
    "plt.plot(np.arange(iter_p), true_train_loss[:iter_p].detach().numpy(), '-.',label='true KSD train')\n",
    "plt.plot(np.arange(iter_p), approx_train_loss[:iter_p].detach().numpy(), '--', label='approx KSD train')\n",
    "plt.xlabel('iteration')\n",
    "plt.ylabel('loss')\n",
    "plt.legend(bbox_to_anchor=(1.55, 1), loc='upper right')\n",
    "plt.savefig('ppca_training.png', bbox_inches='tight')"
   ]
  },
  {
   "cell_type": "code",
   "execution_count": 19,
   "metadata": {},
   "outputs": [],
   "source": [
    "p_weight_history = np.array([params['W'][i].detach().numpy() for i in range(iter_p)])"
   ]
  },
  {
   "cell_type": "code",
   "execution_count": 26,
   "metadata": {},
   "outputs": [
    {
     "data": {
      "text/plain": [
       "array([[ 0.1853084 ,  0.17602916,  0.18176012],\n",
       "       [ 0.35576212,  0.40707085,  0.3921723 ],\n",
       "       [-0.16067089, -0.1784436 , -0.16901207],\n",
       "       [ 0.3108724 ,  0.3050842 ,  0.3086138 ],\n",
       "       [ 0.6633023 ,  0.72695976,  0.7199241 ]], dtype=float32)"
      ]
     },
     "execution_count": 26,
     "metadata": {},
     "output_type": "execute_result"
    }
   ],
   "source": [
    "p_weight_history[-1]"
   ]
  },
  {
   "cell_type": "code",
   "execution_count": 28,
   "metadata": {},
   "outputs": [
    {
     "data": {
      "text/plain": [
       "tensor([-0.2662, -0.3046,  0.3600, -0.3395, -1.0416], grad_fn=<SubBackward0>)"
      ]
     },
     "execution_count": 28,
     "metadata": {},
     "output_type": "execute_result"
    }
   ],
   "source": [
    "p.b - "
   ]
  },
  {
   "cell_type": "code",
   "execution_count": 22,
   "metadata": {},
   "outputs": [
    {
     "data": {
      "text/plain": [
       "tensor([[-0.0288, -0.2958,  0.3641],\n",
       "        [ 0.3525,  0.2893, -0.2484],\n",
       "        [-0.0876,  0.1893,  0.3924],\n",
       "        [ 0.0600,  0.0055, -0.1840],\n",
       "        [ 0.1006, -0.1737, -0.1821]])"
      ]
     },
     "execution_count": 22,
     "metadata": {},
     "output_type": "execute_result"
    }
   ],
   "source": [
    "W"
   ]
  },
  {
   "cell_type": "code",
   "execution_count": 24,
   "metadata": {},
   "outputs": [
    {
     "data": {
      "text/plain": [
       "0.4304715394973755"
      ]
     },
     "execution_count": 24,
     "metadata": {},
     "output_type": "execute_result"
    }
   ],
   "source": [
    "stein.ksd_ustat(Xeval, grbm.score_marginal_obs, kx).item()"
   ]
  },
  {
   "cell_type": "code",
   "execution_count": 25,
   "metadata": {},
   "outputs": [
    {
     "data": {
      "text/plain": [
       "0.48903536796569824"
      ]
     },
     "execution_count": 25,
     "metadata": {},
     "output_type": "execute_result"
    }
   ],
   "source": [
    "stein.ksd_ustat(Xeval, p.score_marginal_obs, kx).item()"
   ]
  }
 ],
 "metadata": {
  "kernelspec": {
   "display_name": "Python 3",
   "language": "python",
   "name": "python3"
  },
  "language_info": {
   "codemirror_mode": {
    "name": "ipython",
    "version": 3
   },
   "file_extension": ".py",
   "mimetype": "text/x-python",
   "name": "python",
   "nbconvert_exporter": "python",
   "pygments_lexer": "ipython3",
   "version": "3.6.10"
  }
 },
 "nbformat": 4,
 "nbformat_minor": 4
}
