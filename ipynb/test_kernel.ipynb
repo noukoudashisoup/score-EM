{
 "cells": [
  {
   "cell_type": "code",
   "execution_count": 78,
   "metadata": {},
   "outputs": [
    {
     "name": "stdout",
     "output_type": "stream",
     "text": [
      "The autoreload extension is already loaded. To reload it, use:\n",
      "  %reload_ext autoreload\n"
     ]
    }
   ],
   "source": [
    "%load_ext autoreload\n",
    "%autoreload 2"
   ]
  },
  {
   "cell_type": "code",
   "execution_count": null,
   "metadata": {},
   "outputs": [],
   "source": []
  },
  {
   "cell_type": "code",
   "execution_count": 48,
   "metadata": {},
   "outputs": [],
   "source": [
    "import torch\n",
    "import torch.nn as nn\n",
    "from scem import kernel"
   ]
  },
  {
   "cell_type": "code",
   "execution_count": 21,
   "metadata": {},
   "outputs": [],
   "source": [
    "torch.set_printoptions(precision=10)"
   ]
  },
  {
   "cell_type": "code",
   "execution_count": 146,
   "metadata": {},
   "outputs": [],
   "source": [
    "bk = kernel.BKGauss(torch.tensor(1.0))\n",
    "k = kernel.KGauss(torch.tensor(1.0))\n",
    "\n",
    "bk = kernel.BKIMQ()\n",
    "k = kernel.KIMQ()"
   ]
  },
  {
   "cell_type": "code",
   "execution_count": 147,
   "metadata": {},
   "outputs": [],
   "source": [
    "n = 3\n",
    "d = 4\n",
    "dtype = torch.float64\n",
    "X = torch.randn([n, d], dtype=dtype)\n",
    "Y = torch.randn([n-1, d], dtype=dtype)"
   ]
  },
  {
   "cell_type": "code",
   "execution_count": 150,
   "metadata": {},
   "outputs": [],
   "source": [
    "G = bk.gradX(X, Y)"
   ]
  },
  {
   "cell_type": "code",
   "execution_count": 151,
   "metadata": {},
   "outputs": [],
   "source": [
    "G_ = torch.stack([k.parX(X, Y, j) for j in range(d)]).permute(1, 2, 0)"
   ]
  },
  {
   "cell_type": "code",
   "execution_count": 152,
   "metadata": {},
   "outputs": [
    {
     "data": {
      "text/plain": [
       "tensor(0., dtype=torch.float64)"
      ]
     },
     "execution_count": 152,
     "metadata": {},
     "output_type": "execute_result"
    }
   ],
   "source": [
    "torch.abs(G - G_).max()"
   ]
  },
  {
   "cell_type": "code",
   "execution_count": 153,
   "metadata": {},
   "outputs": [],
   "source": [
    "G_sum_k = k.gradXY_sum(X, Y)"
   ]
  },
  {
   "cell_type": "code",
   "execution_count": 158,
   "metadata": {},
   "outputs": [],
   "source": [
    "gradxy_bk = bk.gradXY(X, Y)\n",
    "idx = torch.arange(d)\n",
    "G_sum_bk = gradxy_bk[:, :, idx, idx].sum(axis=-1)"
   ]
  },
  {
   "cell_type": "code",
   "execution_count": 159,
   "metadata": {},
   "outputs": [
    {
     "data": {
      "text/plain": [
       "tensor(2.7755575616e-17, dtype=torch.float64)"
      ]
     },
     "execution_count": 159,
     "metadata": {},
     "output_type": "execute_result"
    }
   ],
   "source": [
    "(torch.abs(G_sum_k - G_sum_bk)).max()"
   ]
  },
  {
   "cell_type": "code",
   "execution_count": 163,
   "metadata": {},
   "outputs": [
    {
     "name": "stdout",
     "output_type": "stream",
     "text": [
      "tensor([[0.0624549242, 0.0643736823],\n",
      "        [0.0573358432, 0.0239614653],\n",
      "        [0.0941736039, 0.0314400372]], dtype=torch.float64)\n"
     ]
    }
   ],
   "source": [
    "print(G_sum_bk)"
   ]
  },
  {
   "cell_type": "code",
   "execution_count": 164,
   "metadata": {},
   "outputs": [
    {
     "name": "stdout",
     "output_type": "stream",
     "text": [
      "tensor([[-6.9388939039e-18, -1.3877787808e-17],\n",
      "        [ 2.7755575616e-17,  0.0000000000e+00],\n",
      "        [ 1.3877787808e-17, -6.9388939039e-18]], dtype=torch.float64)\n"
     ]
    }
   ],
   "source": [
    "print(G_sum_k-G_sum_bk)"
   ]
  },
  {
   "cell_type": "code",
   "execution_count": 165,
   "metadata": {},
   "outputs": [],
   "source": [
    "class Net(nn.Module):\n",
    "    def __init__(self, Dx):\n",
    "        super(Net, self).__init__()\n",
    "        self.scales = nn.Parameter(torch.ones([d]))\n",
    "        \n",
    "    def forward(self, X):\n",
    "        return X * (self.scales**2)**0.5"
   ]
  },
  {
   "cell_type": "code",
   "execution_count": 166,
   "metadata": {},
   "outputs": [],
   "source": [
    "f = Net(d)\n",
    "sigma2 = 10.0\n",
    "f.scales = nn.Parameter(torch.ones([d], dtype=dtype)/(sigma2)**0.5)"
   ]
  },
  {
   "cell_type": "code",
   "execution_count": 174,
   "metadata": {},
   "outputs": [],
   "source": [
    "k_ = kernel.KSTFuncCompose(bk, kernel.FuncFeatureMap(f, (d, ), (d, )))"
   ]
  },
  {
   "cell_type": "code",
   "execution_count": 182,
   "metadata": {},
   "outputs": [],
   "source": [
    "#k = kernel.KGauss(torch.tensor(sigma2, dtype=torch.float64))\n",
    "k = kernel.KIMQ(s2=sigma2)"
   ]
  },
  {
   "cell_type": "code",
   "execution_count": 187,
   "metadata": {},
   "outputs": [
    {
     "data": {
      "text/plain": [
       "tensor([[0.7697453516, 0.7727955921],\n",
       "        [0.7610091801, 0.6633383865],\n",
       "        [0.8092496917, 0.6952153393]], dtype=torch.float64,\n",
       "       grad_fn=<PowBackward0>)"
      ]
     },
     "execution_count": 187,
     "metadata": {},
     "output_type": "execute_result"
    }
   ],
   "source": [
    "k.eval(X, Y)"
   ]
  },
  {
   "cell_type": "code",
   "execution_count": 188,
   "metadata": {},
   "outputs": [
    {
     "data": {
      "text/plain": [
       "tensor(1.1102230246e-16, dtype=torch.float64, grad_fn=<MaxBackward1>)"
      ]
     },
     "execution_count": 188,
     "metadata": {},
     "output_type": "execute_result"
    }
   ],
   "source": [
    "torch.abs(k.eval(X, Y)-k_.eval(X, Y)).max()"
   ]
  },
  {
   "cell_type": "code",
   "execution_count": 189,
   "metadata": {},
   "outputs": [
    {
     "data": {
      "text/plain": [
       "tensor(2.7755575616e-17, dtype=torch.float64, grad_fn=<MaxBackward1>)"
      ]
     },
     "execution_count": 189,
     "metadata": {},
     "output_type": "execute_result"
    }
   ],
   "source": [
    "torch.abs(k_.gradXY_sum(X, Y) - k.gradXY_sum(X, Y)).max()"
   ]
  },
  {
   "cell_type": "code",
   "execution_count": 190,
   "metadata": {},
   "outputs": [
    {
     "data": {
      "text/plain": [
       "tensor(2.7755575616e-17, dtype=torch.float64, grad_fn=<MaxBackward1>)"
      ]
     },
     "execution_count": 190,
     "metadata": {},
     "output_type": "execute_result"
    }
   ],
   "source": [
    "torch.abs(k_.gradX(X, Y) - k.gradX(X, Y)).max()"
   ]
  },
  {
   "cell_type": "code",
   "execution_count": null,
   "metadata": {},
   "outputs": [],
   "source": []
  }
 ],
 "metadata": {
  "kernelspec": {
   "display_name": "Python 3",
   "language": "python",
   "name": "python3"
  },
  "language_info": {
   "codemirror_mode": {
    "name": "ipython",
    "version": 3
   },
   "file_extension": ".py",
   "mimetype": "text/x-python",
   "name": "python",
   "nbconvert_exporter": "python",
   "pygments_lexer": "ipython3",
   "version": "3.6.12"
  }
 },
 "nbformat": 4,
 "nbformat_minor": 4
}
