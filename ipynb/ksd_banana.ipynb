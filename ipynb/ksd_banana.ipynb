{
 "cells": [
  {
   "cell_type": "markdown",
   "metadata": {},
   "source": [
    "# Load data"
   ]
  },
  {
   "cell_type": "code",
   "execution_count": 1,
   "metadata": {},
   "outputs": [],
   "source": [
    "%load_ext autoreload\n",
    "%autoreload 2"
   ]
  },
  {
   "cell_type": "code",
   "execution_count": 2,
   "metadata": {},
   "outputs": [],
   "source": [
    "import numpy as np\n",
    "import matplotlib.pyplot as plt\n",
    "np.set_printoptions(precision=3, linewidth=120)\n",
    "import sys\n",
    "sys.path.append(\"..\")\n",
    "from scem import ebm, stein, kernel, util, gen\n",
    "from scem.datasets import *\n",
    "import matplotlib.pyplot as plt"
   ]
  },
  {
   "cell_type": "code",
   "execution_count": 3,
   "metadata": {},
   "outputs": [],
   "source": [
    "dname = \"banana\"\n",
    "p = load_data(dname, D=2, noise_std = 0.0, seed=0, itanh=False, whiten=False )\n",
    "\n",
    "x = p.sample(1000)\n",
    "x_eval = p.sample(100)"
   ]
  },
  {
   "cell_type": "code",
   "execution_count": 4,
   "metadata": {},
   "outputs": [],
   "source": [
    "import torch \n",
    "import torch.nn as nn\n",
    "import numpy as np\n",
    "import torch.distributions as td\n",
    "\n",
    "\n",
    "class EBM(nn.Module):\n",
    "    \n",
    "    '''\n",
    "    EBM \n",
    "    '''\n",
    "    \n",
    "    def __init__(self, Dx, Dz, Dh):\n",
    "        \n",
    "        super().__init__()\n",
    "        \n",
    "        self.layer_1 = nn.Linear(Dz+Dx, Dh)\n",
    "        self.layer_2 = nn.Linear(Dh, 1)\n",
    "    \n",
    "    def forward(self, X, Z):\n",
    "        elu = nn.ELU()\n",
    "\n",
    "\n",
    "        XZ = torch.cat([X, Z], axis=-1)\n",
    "        h  = elu(self.layer_1(XZ))\n",
    "        E  = self.layer_2(h)\n",
    "        return E[:,0]\n",
    "    \n",
    "\n",
    "# dimensionality of model \n",
    "Dx = 2\n",
    "Dz = 2\n",
    "Dh = 100\n",
    "\n",
    "lebm = ebm.LatentEBMAdapter(EBM(Dx, Dz, Dh), var_type_obs='continuous', var_type_latent='continuous')"
   ]
  },
  {
   "cell_type": "code",
   "execution_count": 5,
   "metadata": {},
   "outputs": [],
   "source": [
    "def weight_reset(m):\n",
    "    if isinstance(m, nn.Conv2d) or isinstance(m, nn.Linear):\n",
    "        m.reset_parameters()"
   ]
  },
  {
   "cell_type": "code",
   "execution_count": 6,
   "metadata": {},
   "outputs": [],
   "source": [
    "X = torch.as_tensor(x, dtype=torch.float32)"
   ]
  },
  {
   "cell_type": "code",
   "execution_count": 7,
   "metadata": {},
   "outputs": [],
   "source": [
    "# define kernel\n",
    "\n",
    "med2 = util.pt_meddistance(X)**2\n",
    "#kx = kernel.KIMQ(b=-0.5, c=1, s2=med2)\n",
    "kx = kernel.PTKGauss(torch.tensor([med2]))"
   ]
  },
  {
   "cell_type": "code",
   "execution_count": 8,
   "metadata": {},
   "outputs": [],
   "source": [
    "# q(z|x)\n",
    "cs = gen.CSFactorisedGaussian(Dx, Dz, Dh)\n",
    "\n",
    "\n",
    "# optimizer settings\n",
    "learning_rate_q = 1e-2\n",
    "weight_decay_q =  0.#1e-5\n",
    "optimizer_q = torch.optim.Adam(cs.parameters(), lr=learning_rate_q,\n",
    "                               weight_decay=weight_decay_q)\n",
    "\n",
    "approx_score = stein.ApproximateScore(\n",
    "        lebm.score_joint_obs, cs)\n",
    "approx_score.n_sample = 500\n",
    "\n",
    "# optimizer settings for p(x)\n",
    "learning_rate_p = 1e-1 # !!!\n",
    "weight_decay_p = 0.\n",
    "optimizer_p = torch.optim.Adam(lebm.parameters(), lr=learning_rate_p,\n",
    "                               weight_decay=weight_decay_p)"
   ]
  },
  {
   "cell_type": "code",
   "execution_count": 9,
   "metadata": {},
   "outputs": [],
   "source": [
    "iter_p = 40\n",
    "iter_q = 200\n",
    "batch_size = 100"
   ]
  },
  {
   "cell_type": "code",
   "execution_count": 10,
   "metadata": {},
   "outputs": [],
   "source": [
    "def inner_loop(niter, X, cs, opt):\n",
    "    for i in range(niter):\n",
    "        Z = cs.sample(1, X)\n",
    "        Z = Z.squeeze(0)\n",
    "        zmed2 = util.pt_meddistance(Z)**2\n",
    "        kz = kernel.KIMQ(b=-0.5, c=1, s2=1)\n",
    "        loss = stein.kcsd_ustat(\n",
    "            X, Z, lebm.score_joint_latent, kx, kz)\n",
    "        opt.zero_grad()\n",
    "        loss.backward(retain_graph=False)\n",
    "        opt.step()   \n",
    "    print('kcsd', loss.item())\n",
    "    "
   ]
  },
  {
   "cell_type": "code",
   "execution_count": 11,
   "metadata": {},
   "outputs": [
    {
     "name": "stdout",
     "output_type": "stream",
     "text": [
      "kcsd -0.0017496035434305668\n",
      "0.13770006597042084 0.1450061947107315\n",
      "kcsd -0.0015418236143887043\n",
      "kcsd -0.0031445666681975126\n",
      "kcsd -0.0027759806253015995\n",
      "kcsd 0.0008187326602637768\n",
      "kcsd 0.005540942773222923\n",
      "kcsd 0.006610617507249117\n",
      "kcsd 0.007109937723726034\n",
      "kcsd 0.0031338685657829046\n",
      "kcsd 0.0010030480334535241\n",
      "kcsd -0.0009887063642963767\n",
      "0.11992599070072174 0.22634564340114594\n",
      "kcsd -0.0014519632095471025\n",
      "kcsd -0.00037117389729246497\n",
      "kcsd -0.001333593507297337\n",
      "kcsd -0.0014787570107728243\n",
      "kcsd -0.0011830262374132872\n",
      "kcsd -0.00035617558751255274\n",
      "kcsd 0.00029654300305992365\n",
      "kcsd 0.0028582115191966295\n",
      "kcsd 0.002673435490578413\n",
      "kcsd 0.005654340144246817\n",
      "0.11132635176181793 28.85780906677246\n",
      "kcsd -0.00012186223466414958\n",
      "kcsd 0.00276897381991148\n",
      "kcsd 0.002005297690629959\n",
      "kcsd 0.0008695613942109048\n",
      "kcsd 0.0013461180496960878\n",
      "kcsd 0.0029003876261413097\n",
      "kcsd -0.00043580489000305533\n",
      "kcsd -0.0007876324816606939\n",
      "kcsd -0.0007344702607952058\n",
      "kcsd -0.000932410650420934\n",
      "0.09574270248413086 0.05840865522623062\n",
      "kcsd -0.0024889365304261446\n",
      "kcsd -0.001143017434515059\n",
      "kcsd 0.0031239117961376905\n",
      "kcsd -0.0027199131436645985\n",
      "kcsd 0.0003550350375007838\n",
      "kcsd -0.0030636212322860956\n",
      "kcsd -0.0018239847850054502\n",
      "kcsd -0.0009012395748868585\n",
      "kcsd -0.0024191839620471\n"
     ]
    }
   ],
   "source": [
    "#inner_loop(400, X)\n",
    "losses = []\n",
    "\n",
    "for t in range(iter_p):\n",
    "    # reset q(z|x)'s weight\n",
    "    cs.apply(weight_reset)\n",
    "    optimizer_q = torch.optim.Adam(cs.parameters(), lr=learning_rate_q,\n",
    "                               weight_decay=weight_decay_q)\n",
    "    \n",
    "    perm = torch.randperm(X.shape[0]).detach()\n",
    "    idx = perm[:batch_size]\n",
    "    X_ = X[idx].detach()\n",
    "\n",
    "    inner_loop(iter_q, X_, cs, optimizer_q)\n",
    "    loss = stein.ksd_ustat(X_, approx_score, kx)  \n",
    "    losses += [loss.item()]\n",
    "\n",
    "    if (t%10 == 0):\n",
    "        loss_ = stein.ksd_ustat(X, approx_score, kx).item()\n",
    "        print(loss.item(), loss_)\n",
    "    \n",
    "    optimizer_p.zero_grad()\n",
    "    loss.backward(retain_graph=False)\n",
    "    optimizer_p.step()"
   ]
  },
  {
   "cell_type": "code",
   "execution_count": 12,
   "metadata": {},
   "outputs": [
    {
     "data": {
      "text/plain": [
       "[<matplotlib.lines.Line2D at 0x7f14ae84e208>]"
      ]
     },
     "execution_count": 12,
     "metadata": {},
     "output_type": "execute_result"
    },
    {
     "data": {
      "image/png": "[encoded data removed]",
      "text/plain": [
       "<Figure size 432x288 with 1 Axes>"
      ]
     },
     "metadata": {
      "needs_background": "light"
     },
     "output_type": "display_data"
    }
   ],
   "source": [
    "plt.plot(losses)"
   ]
  },
  {
   "cell_type": "code",
   "execution_count": 13,
   "metadata": {},
   "outputs": [
    {
     "ename": "AttributeError",
     "evalue": "module 'torch' has no attribute 'linspacddde'",
     "output_type": "error",
     "traceback": [
      "\u001b[0;31m---------------------------------------------------------------------------\u001b[0m",
      "\u001b[0;31mAttributeError\u001b[0m                            Traceback (most recent call last)",
      "\u001b[0;32m<ipython-input-13-2c2480b700fe>\u001b[0m in \u001b[0;36m<module>\u001b[0;34m\u001b[0m\n\u001b[1;32m      2\u001b[0m \u001b[0;32mfrom\u001b[0m \u001b[0mitertools\u001b[0m \u001b[0;32mimport\u001b[0m \u001b[0mproduct\u001b[0m\u001b[0;34m\u001b[0m\u001b[0;34m\u001b[0m\u001b[0m\n\u001b[1;32m      3\u001b[0m \u001b[0mngrid\u001b[0m \u001b[0;34m=\u001b[0m \u001b[0;36m50\u001b[0m\u001b[0;34m\u001b[0m\u001b[0;34m\u001b[0m\u001b[0m\n\u001b[0;32m----> 4\u001b[0;31m \u001b[0mgrid\u001b[0m \u001b[0;34m=\u001b[0m \u001b[0mtorch\u001b[0m\u001b[0;34m.\u001b[0m\u001b[0mlinspacddde\u001b[0m\u001b[0;34m(\u001b[0m\u001b[0;34m-\u001b[0m\u001b[0;36m10\u001b[0m\u001b[0;34m,\u001b[0m \u001b[0;36m10\u001b[0m\u001b[0;34m,\u001b[0m \u001b[0mngrid\u001b[0m\u001b[0;34m)\u001b[0m\u001b[0;34m\u001b[0m\u001b[0;34m\u001b[0m\u001b[0m\n\u001b[0m\u001b[1;32m      5\u001b[0m \u001b[0mxz_eval\u001b[0m \u001b[0;34m=\u001b[0m \u001b[0mtorch\u001b[0m\u001b[0;34m.\u001b[0m\u001b[0mtensor\u001b[0m\u001b[0;34m(\u001b[0m\u001b[0mlist\u001b[0m\u001b[0;34m(\u001b[0m\u001b[0mproduct\u001b[0m\u001b[0;34m(\u001b[0m\u001b[0;34m*\u001b[0m\u001b[0;34m[\u001b[0m\u001b[0mgrid\u001b[0m\u001b[0;34m]\u001b[0m\u001b[0;34m*\u001b[0m\u001b[0;36m4\u001b[0m\u001b[0;34m)\u001b[0m\u001b[0;34m)\u001b[0m\u001b[0;34m)\u001b[0m\u001b[0;34m\u001b[0m\u001b[0;34m\u001b[0m\u001b[0m\n\u001b[1;32m      6\u001b[0m \u001b[0mx_eval\u001b[0m \u001b[0;34m=\u001b[0m \u001b[0mxz_eval\u001b[0m\u001b[0;34m[\u001b[0m\u001b[0;34m:\u001b[0m\u001b[0;34m,\u001b[0m\u001b[0;34m:\u001b[0m\u001b[0;36m2\u001b[0m\u001b[0;34m]\u001b[0m\u001b[0;34m\u001b[0m\u001b[0;34m\u001b[0m\u001b[0m\n",
      "\u001b[0;31mAttributeError\u001b[0m: module 'torch' has no attribute 'linspacddde'"
     ]
    }
   ],
   "source": [
    "# form a grid for numerical normalisation\n",
    "from itertools import product\n",
    "ngrid = 50\n",
    "grid = torch.linspacddde(-10, 10, ngrid)\n",
    "xz_eval = torch.tensor(list(product(*[grid]*4)))\n",
    "x_eval = xz_eval[:,:2]\n",
    "z_eval = xz_eval[:,2:]"
   ]
  },
  {
   "cell_type": "code",
   "execution_count": null,
   "metadata": {},
   "outputs": [],
   "source": [
    "# true log density\n",
    "E_true = p.logpdf_muddltiple(torch.tensor(list(product(*[grid]*2))))\n",
    "E_true -= E_true.max()"
   ]
  },
  {
   "cell_type": "code",
   "execution_count": null,
   "metadata": {},
   "outputs": [],
   "source": [
    "# EBM log density\n",
    "E_eval = lebm(x_eval, z_eval).reshape(ngrid,ngrid,ngrid,ngrid).exp().detach()\n",
    "E_eval /= E_eval.sum()\n",
    "E_eval = E_eval.sum(-1).sum(-1)\n",
    "E_eval.log_()\n",
    "E_eval -= E_eval.max()\n",
    "# E_eval = E_eval.sum(-1).sum(-1)"
   ]
  },
  {
   "cell_type": "code",
   "execution_count": null,
   "metadata": {},
   "outputs": [],
   "source": [
    "def normalise(E):\n",
    "    if isinstance(E, np.ndarray):\n",
    "        E = np.exp(E)\n",
    "    else:\n",
    "        E = E.exp()\n",
    "    E /= E.sum()\n",
    "    return E"
   ]
  },
  {
   "cell_type": "code",
   "execution_count": null,
   "metadata": {},
   "outputs": [],
   "source": [
    "fig, axes = plt.subplots(2,2,figsize=(6,6), sharex=True, sharey=True)\n",
    "\n",
    "\n",
    "ax = axes[0,0]\n",
    "ax.pcolor(grid, grid,E_true.reshape(ngrid,ngrid), shading='auto', vmin=-10, vmax=0)\n",
    "ax.scatter(x[:,1], x[:,0], c=\"r\", s=1, alpha=0.05)\n",
    "\n",
    "\n",
    "ax = axes[1,0]\n",
    "ax.pcolor(grid, grid,normalise(E_true).reshape(ngrid,ngrid), shading='auto')\n",
    "\n",
    "ax = axes[0,1]\n",
    "ax.pcolor(grid, grid,E_eval,shading='auto', vmin=-10, vmax=0, )\n",
    "ax.scatter(x[:,1], x[:,0], c=\"r\", s=1, alpha=0.05)\n",
    "\n",
    "ax = axes[1,1]\n",
    "ax.pcolor(grid, grid,normalise(E_eval),shading='auto' )\n",
    "ax.scatter(x[:,1], x[:,0], c=\"r\", s=1, alpha=0.0)\n",
    "\n",
    "\n",
    "\n",
    "axes[0,0].set_ylabel(\"logp\")\n",
    "axes[1,0].set_ylabel(\"logp\")\n",
    "\n",
    "axes[0,0].set_title(\"data\")\n",
    "axes[0,1].set_title(\"VNCE\")\n",
    "\n",
    "axes[0,0].set_xlim(-10,10)"
   ]
  }
 ],
 "metadata": {
  "kernelspec": {
   "display_name": "Python 3",
   "language": "python",
   "name": "python3"
  },
  "language_info": {
   "codemirror_mode": {
    "name": "ipython",
    "version": 3
   },
   "file_extension": ".py",
   "mimetype": "text/x-python",
   "name": "python",
   "nbconvert_exporter": "python",
   "pygments_lexer": "ipython3",
   "version": "3.6.10"
  }
 },
 "nbformat": 4,
 "nbformat_minor": 2
}
