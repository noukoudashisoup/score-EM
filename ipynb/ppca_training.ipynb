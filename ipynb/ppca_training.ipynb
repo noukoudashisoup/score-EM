{
 "cells": [
  {
   "cell_type": "code",
   "execution_count": 1,
   "metadata": {},
   "outputs": [],
   "source": [
    "%load_ext autoreload\n",
    "%autoreload 2"
   ]
  },
  {
   "cell_type": "code",
   "execution_count": 2,
   "metadata": {},
   "outputs": [],
   "source": [
    "import matplotlib\n",
    "from matplotlib import pyplot as plt\n",
    "%matplotlib inline\n",
    "\n",
    "import numpy as np"
   ]
  },
  {
   "cell_type": "code",
   "execution_count": 3,
   "metadata": {},
   "outputs": [],
   "source": [
    "plt.rc('lines', linewidth=2, markersize=10)\n",
    "from matplotlib import rcParams\n",
    "rcParams.update({'figure.autolayout': False})"
   ]
  },
  {
   "cell_type": "code",
   "execution_count": 4,
   "metadata": {},
   "outputs": [],
   "source": [
    "from scem import gen, stein, kernel, ebm\n",
    "from scem import util\n",
    "import torch"
   ]
  },
  {
   "cell_type": "code",
   "execution_count": 5,
   "metadata": {},
   "outputs": [],
   "source": [
    "seed = 13\n",
    "torch.manual_seed(seed)\n",
    "n = 300\n",
    "neval = 1000\n",
    "dx = 5\n",
    "dz = 3\n",
    "var = 2.\n",
    "W = torch.randn([dx, dz]) / (dx * dz)**0.5"
   ]
  },
  {
   "cell_type": "code",
   "execution_count": 6,
   "metadata": {},
   "outputs": [],
   "source": [
    "n_cat = 2\n",
    "Z = torch.randn([n, dz])\n",
    "Zeval = torch.randn([neval, dz])\n",
    "X = Z@W.T + var**0.5 * torch.randn([n, dx])\n",
    "Xeval = Zeval@W.T + var**0.5 * torch.randn([neval, dx])"
   ]
  },
  {
   "cell_type": "code",
   "execution_count": 7,
   "metadata": {},
   "outputs": [],
   "source": [
    "# define kernels\n",
    "med2 = util.pt_meddistance(X)**2\n",
    "kx = kernel.KIMQ(b=-0.5, c=1, s2=med2)\n",
    "#kx = kernel.PTKGauss(torch.tensor([med2]))"
   ]
  },
  {
   "cell_type": "code",
   "execution_count": 8,
   "metadata": {},
   "outputs": [],
   "source": [
    "def init_weights(m):\n",
    "    if type(m) == torch.nn.Linear:\n",
    "        torch.nn.init.normal_(m.weight, std=0.01)\n",
    "        m.bias.data.fill_(0.)"
   ]
  },
  {
   "cell_type": "code",
   "execution_count": 9,
   "metadata": {},
   "outputs": [
    {
     "data": {
      "text/plain": [
       "PTCSGaussLinearMean(\n",
       "  (mean_fn): Linear(in_features=5, out_features=3, bias=True)\n",
       ")"
      ]
     },
     "execution_count": 9,
     "metadata": {},
     "output_type": "execute_result"
    }
   ],
   "source": [
    "# q(z|x)\n",
    "cs = gen.PTCSGaussLinearMean(dx, dz)\n",
    "cs.apply(init_weights)"
   ]
  },
  {
   "cell_type": "code",
   "execution_count": 10,
   "metadata": {},
   "outputs": [],
   "source": [
    "# optimizer settings\n",
    "learning_rate_q = 1e-2\n",
    "weight_decay_q = 1e-2\n",
    "optimizer_q = torch.optim.Adam(cs.parameters(), lr=learning_rate_q,\n",
    "                               weight_decay=weight_decay_q)"
   ]
  },
  {
   "cell_type": "code",
   "execution_count": 11,
   "metadata": {},
   "outputs": [],
   "source": [
    "W_init = torch.ones([dx, dz])\n",
    "p = ebm.PPCA(W_init, torch.tensor([1.0]))"
   ]
  },
  {
   "cell_type": "code",
   "execution_count": 12,
   "metadata": {},
   "outputs": [],
   "source": [
    "# optimizer settings\n",
    "learning_rate_p = 1e-2\n",
    "weight_decay_p = 1e-2\n",
    "optimizer_p = torch.optim.Adam(p.parameters(), lr=learning_rate_p,\n",
    "                               weight_decay=weight_decay_p)"
   ]
  },
  {
   "cell_type": "code",
   "execution_count": 13,
   "metadata": {},
   "outputs": [],
   "source": [
    "iter_q = 100\n",
    "iter_p = 300"
   ]
  },
  {
   "cell_type": "code",
   "execution_count": 14,
   "metadata": {},
   "outputs": [],
   "source": [
    "approx_score = stein.ApproximateScore(\n",
    "        p.score_joint_obs, cs)\n",
    "approx_score.n_sample = 500"
   ]
  },
  {
   "cell_type": "code",
   "execution_count": 15,
   "metadata": {},
   "outputs": [],
   "source": [
    "true_train_loss = torch.empty([iter_p])\n",
    "true_eval_loss = torch.empty([iter_p])\n",
    "approx_train_loss = torch.empty([iter_p])\n",
    "grad_loss_pq = torch.empty([iter_p])\n",
    "params = {\n",
    "    'W': torch.empty([iter_p, dx, dz]), \n",
    "    'var': torch.empty([iter_p, dx]),\n",
    "}"
   ]
  },
  {
   "cell_type": "code",
   "execution_count": 16,
   "metadata": {},
   "outputs": [],
   "source": [
    "def inner_loop(niter):\n",
    "    for i in range(niter):\n",
    "        Z = cs.sample(1, X, seed)\n",
    "        med2 = util.pt_meddistance(X)**2\n",
    "        kz = kernel.KIMQ(b=-0.5, c=1., s2=med2)\n",
    "        Z = Z.squeeze(0)\n",
    "        loss = stein.kcsd_ustat(\n",
    "            X, Z, p.score_joint_latent, kx, kz)\n",
    "        optimizer_q.zero_grad()\n",
    "        loss.backward()\n",
    "        optimizer_q.step()"
   ]
  },
  {
   "cell_type": "code",
   "execution_count": null,
   "metadata": {
    "scrolled": true
   },
   "outputs": [],
   "source": [
    "for t in range(iter_p):\n",
    "    inner_loop(iter_q)\n",
    "    loss = stein.ksd_ustat(X, approx_score, kx)\n",
    "    #ksd_true = stein.ksd_ustat(X, p.score_marginal_obs, kx)\n",
    "    #ksd_eval_true = stein.ksd_ustat(Xeval, p.score_marginal_obs, kx)\n",
    "    \n",
    "#     true_train_loss[t] = ksd_true\n",
    "#     approx_train_loss[t] = loss\n",
    "#     true_eval_loss[t] = ksd_eval_true\n",
    "    \n",
    "    if (t%10 == 0):\n",
    "        print(loss)# , ksd_true, ksd_eval_true)\n",
    "    \n",
    "    optimizer_p.zero_grad()\n",
    "    loss.backward()\n",
    "    optimizer_p.step()\n",
    "\n",
    "    params['W'][t] = p.weight.clone()\n",
    "    params['var'][t] = p.var.clone()"
   ]
  },
  {
   "cell_type": "code",
   "execution_count": null,
   "metadata": {},
   "outputs": [],
   "source": [
    "plt.plot(np.arange(iter_p), true_eval_loss[:iter_p].detach().numpy(), '-', label='true KSD test')\n",
    "plt.plot(np.arange(iter_p), true_train_loss[:iter_p].detach().numpy(), '-.',label='true KSD train')\n",
    "plt.plot(np.arange(iter_p), approx_train_loss[:iter_p].detach().numpy(), '--', label='approx KSD train')\n",
    "plt.xlabel('iteration')\n",
    "plt.ylabel('loss')\n",
    "plt.legend(bbox_to_anchor=(1.75, 1), loc='upper right')"
   ]
  },
  {
   "cell_type": "code",
   "execution_count": null,
   "metadata": {},
   "outputs": [],
   "source": [
    "p_weight_history = np.array([params['W'][i].detach().numpy() for i in range(iter_p)])"
   ]
  }
 ],
 "metadata": {
  "kernelspec": {
   "display_name": "Python 3",
   "language": "python",
   "name": "python3"
  },
  "language_info": {
   "codemirror_mode": {
    "name": "ipython",
    "version": 3
   },
   "file_extension": ".py",
   "mimetype": "text/x-python",
   "name": "python",
   "nbconvert_exporter": "python",
   "pygments_lexer": "ipython3",
   "version": "3.6.10"
  }
 },
 "nbformat": 4,
 "nbformat_minor": 4
}
